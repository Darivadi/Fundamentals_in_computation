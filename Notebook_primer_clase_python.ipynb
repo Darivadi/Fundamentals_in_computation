{
 "cells": [
  {
   "cell_type": "markdown",
   "metadata": {},
   "source": [
    "# Manejo Básico de Python"
   ]
  },
  {
   "cell_type": "markdown",
   "metadata": {},
   "source": [
    "### Material para el curso de Fundamentos en computación UdeA\n",
    "#### 2016"
   ]
  },
  {
   "cell_type": "markdown",
   "metadata": {},
   "source": [
    "En estas notas se expondrá el uso y utilidad de los comandos básicos de python. Python es un lenguaje de programacion de alto nivel que ha tenido mucha acojida en la comunidad cientifica en los ultimos años. Su facilidad y versatilidad lo convierte tambien en una herramienta para aquellos que apenas comienzan en el mundo de la ciencia de la computación.\n",
    "\n",
    "[Pagina oficial](https://www.python.org/)\n",
    "\n",
    "[Wikipedia](http://en.wikipedia.org/wiki/Python)\n",
    "\n",
    "Para programar en python, los programas o las instrucciones se escriben en un archivo de texto plano (comunmente llamado **script**) y para ejecutarse, se hace uso del interprete python para ejecutarlo. Un interprete lee un programa de alto nivel y lo ejecuta, lo que significa que lleva a cabo lo que indica el programa.Traduce el programa poco a poco, leyendo y ejecutando cada comando.\n",
    "\n",
    "Como cualquier lenguaje de programación, python hace uso de palabras reservadas propias para ejecutar ordenes especificas. Sin embargo, la estructura general de un programa en python es similar a la de cualquier programa escrito en otro lenguaje (tenga en cuenta una cosa es la estructura del programa y otra es la sintaxis). En esta parte veremos los comandos u ordenes básicas en python:"
   ]
  },
  {
   "cell_type": "markdown",
   "metadata": {},
   "source": [
    " 1. [Operaciones básicas](#Operaciones-básicas)\n",
    " 2. [Salida en pantalla](#Salida-en-pantalla) \n",
    " 3. [Entrada por teclado](#Entrada-por-teclado)\n",
    " 4. [Condicionales](#Condicionales)\n",
    " 5. [Ciclos](#Ciclos)\n",
    " 6. [Rutinas](#Rutinas)\n",
    " 7. [Importar librerias](#Importar-librerias)"
   ]
  },
  {
   "cell_type": "markdown",
   "metadata": {},
   "source": [
    "## Operaciones básicas"
   ]
  },
  {
   "cell_type": "markdown",
   "metadata": {},
   "source": [
    "#### Tipos de datos"
   ]
  },
  {
   "cell_type": "markdown",
   "metadata": {},
   "source": [
    "En python se pueden hacer operaciones basicas como en una calculadora. Cuando son mas de una operacion en una linea, hay que tener en cuenta las **reglas de precedencia** (orden en que se ejecutan las operaciones en una expresion matemática): *potenciación, división, multiplicación, suma/resta*\n",
    "\n",
    "Noten que para evitar confusiones y por ende errores en la operación, se hace uso del parentesis. A continuacion se muestran algunos ejemplos tanto para las reglas de precedencia como para las operaciones entre tipos de datos:"
   ]
  },
  {
   "cell_type": "markdown",
   "metadata": {},
   "source": [
    "Sumas y restas se realizan de izquierda a derecha: $\\hspace{1cm}$ $a + b + c$ con $a,\\ b,\\ c \\in \\mathbb{Z}$ . Se evalúa primero $a + b$ y luego al resultado se le añade $c$"
   ]
  },
  {
   "cell_type": "code",
   "execution_count": 3,
   "metadata": {
    "collapsed": false
   },
   "outputs": [
    {
     "data": {
      "text/plain": [
       "6"
      ]
     },
     "execution_count": 3,
     "metadata": {},
     "output_type": "execute_result"
    }
   ],
   "source": [
    "1 + 2 + 3"
   ]
  },
  {
   "cell_type": "markdown",
   "metadata": {},
   "source": [
    "Note la diferencia entre las siguientes operaciones"
   ]
  },
  {
   "cell_type": "code",
   "execution_count": 4,
   "metadata": {
    "collapsed": false
   },
   "outputs": [
    {
     "data": {
      "text/plain": [
       "2"
      ]
     },
     "execution_count": 4,
     "metadata": {},
     "output_type": "execute_result"
    }
   ],
   "source": [
    "1 - 2 + 3"
   ]
  },
  {
   "cell_type": "code",
   "execution_count": 5,
   "metadata": {
    "collapsed": false
   },
   "outputs": [
    {
     "data": {
      "text/plain": [
       "-4"
      ]
     },
     "execution_count": 5,
     "metadata": {},
     "output_type": "execute_result"
    }
   ],
   "source": [
    "1 - (2 + 3)"
   ]
  },
  {
   "cell_type": "markdown",
   "metadata": {},
   "source": [
    "Operadores $+$ y $-$ son tanto operadores binarios como unarios"
   ]
  },
  {
   "cell_type": "code",
   "execution_count": 6,
   "metadata": {
    "collapsed": false
   },
   "outputs": [
    {
     "data": {
      "text/plain": [
       "-1"
      ]
     },
     "execution_count": 6,
     "metadata": {},
     "output_type": "execute_result"
    }
   ],
   "source": [
    "-1"
   ]
  },
  {
   "cell_type": "code",
   "execution_count": 7,
   "metadata": {
    "collapsed": false
   },
   "outputs": [
    {
     "data": {
      "text/plain": [
       "1"
      ]
     },
     "execution_count": 7,
     "metadata": {},
     "output_type": "execute_result"
    }
   ],
   "source": [
    "--1"
   ]
  },
  {
   "cell_type": "code",
   "execution_count": 10,
   "metadata": {
    "collapsed": false
   },
   "outputs": [
    {
     "data": {
      "text/plain": [
       "1"
      ]
     },
     "execution_count": 10,
     "metadata": {},
     "output_type": "execute_result"
    }
   ],
   "source": [
    "+1"
   ]
  },
  {
   "cell_type": "code",
   "execution_count": 11,
   "metadata": {
    "collapsed": false
   },
   "outputs": [
    {
     "data": {
      "text/plain": [
       "-1"
      ]
     },
     "execution_count": 11,
     "metadata": {},
     "output_type": "execute_result"
    }
   ],
   "source": [
    "+-1"
   ]
  },
  {
   "cell_type": "markdown",
   "metadata": {},
   "source": [
    "Operador de multiplicación $(*)$ tiene mayor precedencia (prioriad) que suma y resta. División $(/)$ tiene igual precedencia que multiplicación $(*)$. Estas dos últimas operaciones también son evaluadas de izquierda a derecha."
   ]
  },
  {
   "cell_type": "code",
   "execution_count": 12,
   "metadata": {
    "collapsed": false
   },
   "outputs": [
    {
     "data": {
      "text/plain": [
       "6"
      ]
     },
     "execution_count": 12,
     "metadata": {},
     "output_type": "execute_result"
    }
   ],
   "source": [
    "3 * 4 / 2"
   ]
  },
  {
   "cell_type": "code",
   "execution_count": 13,
   "metadata": {
    "collapsed": false
   },
   "outputs": [
    {
     "data": {
      "text/plain": [
       "8"
      ]
     },
     "execution_count": 13,
     "metadata": {},
     "output_type": "execute_result"
    }
   ],
   "source": [
    "12 / 3 * 2"
   ]
  },
  {
   "cell_type": "markdown",
   "metadata": {},
   "source": [
    "Hasta ahora, hemos utilizado números enteros. Note la diferencia entre las siguientes operaciones:"
   ]
  },
  {
   "cell_type": "code",
   "execution_count": 14,
   "metadata": {
    "collapsed": false
   },
   "outputs": [
    {
     "data": {
      "text/plain": [
       "3"
      ]
     },
     "execution_count": 14,
     "metadata": {},
     "output_type": "execute_result"
    }
   ],
   "source": [
    "13/4"
   ]
  },
  {
   "cell_type": "code",
   "execution_count": 15,
   "metadata": {
    "collapsed": false
   },
   "outputs": [
    {
     "data": {
      "text/plain": [
       "3.25"
      ]
     },
     "execution_count": 15,
     "metadata": {},
     "output_type": "execute_result"
    }
   ],
   "source": [
    "13.0/4.0"
   ]
  },
  {
   "cell_type": "markdown",
   "metadata": {},
   "source": [
    "Veamos ejemplos sobre la precedencia:"
   ]
  },
  {
   "cell_type": "markdown",
   "metadata": {},
   "source": [
    "Primer valor: $\\hspace{1cm}$ $a-\\dfrac{b}{c} + d$"
   ]
  },
  {
   "cell_type": "code",
   "execution_count": 22,
   "metadata": {
    "collapsed": false
   },
   "outputs": [
    {
     "data": {
      "text/plain": [
       "5.5"
      ]
     },
     "execution_count": 22,
     "metadata": {},
     "output_type": "execute_result"
    }
   ],
   "source": [
    "4.0 - 5.0/2.0 + 4.0"
   ]
  },
  {
   "cell_type": "markdown",
   "metadata": {},
   "source": [
    "Paréntesis tienen una precedencia mayor, es decir, se evalúa primero lo que está dentro de los paréntesis y luego se aplican las reglas de precedencia conocidas."
   ]
  },
  {
   "cell_type": "markdown",
   "metadata": {},
   "source": [
    "Segundo valor: $\\hspace{1cm}$ $\\dfrac{(a-b)}{c} + d$"
   ]
  },
  {
   "cell_type": "code",
   "execution_count": 23,
   "metadata": {
    "collapsed": false
   },
   "outputs": [
    {
     "data": {
      "text/plain": [
       "3.6"
      ]
     },
     "execution_count": 23,
     "metadata": {},
     "output_type": "execute_result"
    }
   ],
   "source": [
    "(4.0 - 5.0)/2.5 + 4.0"
   ]
  },
  {
   "cell_type": "markdown",
   "metadata": {},
   "source": [
    "Tercer valor: $\\hspace{1cm}$ $\\dfrac{(a-b)}{(c+d)}$"
   ]
  },
  {
   "cell_type": "code",
   "execution_count": 24,
   "metadata": {
    "collapsed": false
   },
   "outputs": [
    {
     "data": {
      "text/plain": [
       "-0.15384615384615385"
      ]
     },
     "execution_count": 24,
     "metadata": {},
     "output_type": "execute_result"
    }
   ],
   "source": [
    "(4.0 - 5.0)/(2.5 + 4.0)"
   ]
  },
  {
   "cell_type": "markdown",
   "metadata": {},
   "source": [
    "Quinto valor: $\\hspace{1cm}$ $\\dfrac{(a-b)}{c}\\times d$"
   ]
  },
  {
   "cell_type": "code",
   "execution_count": 25,
   "metadata": {
    "collapsed": false
   },
   "outputs": [
    {
     "data": {
      "text/plain": [
       "-1.6"
      ]
     },
     "execution_count": 25,
     "metadata": {},
     "output_type": "execute_result"
    }
   ],
   "source": [
    "(4.0 - 5.0)/2.5 * 4.0"
   ]
  },
  {
   "cell_type": "markdown",
   "metadata": {},
   "source": [
    "El computador no es capaz de detectar el error en la operación, puesto que para el, cada una de ellas es matemáticamente válida. Tenga presente que **el computador no va a solucionar sus errores. Deben tener cuidado con la operacion que quieren realizar puesto que el computador va a hacer exactamente lo que ud le escriba**"
   ]
  },
  {
   "cell_type": "markdown",
   "metadata": {},
   "source": [
    "### Objetos e identificadores\n",
    "An __object__ may be thought of as a region of computer memory containing both some data and information associated with those data. For a simple object, this information consists of its _type_, and its _identity_, i.e., the location in memory, which is of course machine-dependent. The identity is therefore of no interest for most users. They need a machine-independent method for accessing objects. This is provided by an _identifier_, a label which can be attached to objects."
   ]
  },
  {
   "cell_type": "markdown",
   "metadata": {
    "collapsed": false
   },
   "source": [
    "<img src=\"ident.jpg\">"
   ]
  },
  {
   "cell_type": "code",
   "execution_count": 2,
   "metadata": {
    "collapsed": true
   },
   "outputs": [],
   "source": [
    "p=3.14"
   ]
  },
  {
   "cell_type": "code",
   "execution_count": 3,
   "metadata": {
    "collapsed": false
   },
   "outputs": [
    {
     "data": {
      "text/plain": [
       "3.14"
      ]
     },
     "execution_count": 3,
     "metadata": {},
     "output_type": "execute_result"
    }
   ],
   "source": [
    "p"
   ]
  },
  {
   "cell_type": "code",
   "execution_count": 9,
   "metadata": {
    "collapsed": false
   },
   "outputs": [],
   "source": [
    "q = p\n",
    "p = 'pi'"
   ]
  },
  {
   "cell_type": "code",
   "execution_count": 10,
   "metadata": {
    "collapsed": false
   },
   "outputs": [
    {
     "data": {
      "text/plain": [
       "'pi'"
      ]
     },
     "execution_count": 10,
     "metadata": {},
     "output_type": "execute_result"
    }
   ],
   "source": [
    "p"
   ]
  },
  {
   "cell_type": "code",
   "execution_count": 11,
   "metadata": {
    "collapsed": false
   },
   "outputs": [
    {
     "data": {
      "text/plain": [
       "'pi'"
      ]
     },
     "execution_count": 11,
     "metadata": {},
     "output_type": "execute_result"
    }
   ],
   "source": [
    "q"
   ]
  },
  {
   "cell_type": "markdown",
   "metadata": {},
   "source": [
    "Hasta el momento efectuamos las operaciones de manera directa, pero cada uno de esos valores puede ser almacenado en una **variable** y efectuar la operación. El resultado final tambien puede ser almacenado en una variable. Por ejemplo:"
   ]
  },
  {
   "cell_type": "code",
   "execution_count": 11,
   "metadata": {
    "collapsed": true
   },
   "outputs": [],
   "source": [
    "a = 4.0\n",
    "b = 5.0\n",
    "c = 2.5\n",
    "d = 4.0\n",
    "e = (a-b)/c*d"
   ]
  },
  {
   "cell_type": "markdown",
   "metadata": {},
   "source": [
    "Miremos el valor contenido en la variable **e**:"
   ]
  },
  {
   "cell_type": "code",
   "execution_count": 12,
   "metadata": {
    "collapsed": false
   },
   "outputs": [
    {
     "data": {
      "text/plain": [
       "-1.6"
      ]
     },
     "execution_count": 12,
     "metadata": {},
     "output_type": "execute_result"
    }
   ],
   "source": [
    "e"
   ]
  },
  {
   "cell_type": "markdown",
   "metadata": {},
   "source": [
    "Para determinar el tipo de dato de una variable, utilizamos el comando **type()**"
   ]
  },
  {
   "cell_type": "code",
   "execution_count": 4,
   "metadata": {
    "collapsed": false
   },
   "outputs": [
    {
     "name": "stdout",
     "output_type": "stream",
     "text": [
      "<type 'int'>\n"
     ]
    }
   ],
   "source": [
    "a = 1\n",
    "print type(a)"
   ]
  },
  {
   "cell_type": "code",
   "execution_count": 5,
   "metadata": {
    "collapsed": false
   },
   "outputs": [
    {
     "name": "stdout",
     "output_type": "stream",
     "text": [
      "<type 'float'>\n"
     ]
    }
   ],
   "source": [
    "print type(e)"
   ]
  },
  {
   "cell_type": "code",
   "execution_count": 7,
   "metadata": {
    "collapsed": false
   },
   "outputs": [
    {
     "data": {
      "text/plain": [
       "-1.6"
      ]
     },
     "execution_count": 7,
     "metadata": {},
     "output_type": "execute_result"
    }
   ],
   "source": [
    "e.real"
   ]
  },
  {
   "cell_type": "code",
   "execution_count": 13,
   "metadata": {
    "collapsed": false
   },
   "outputs": [
    {
     "data": {
      "text/plain": [
       "0.0"
      ]
     },
     "execution_count": 13,
     "metadata": {},
     "output_type": "execute_result"
    }
   ],
   "source": [
    "e.imag"
   ]
  },
  {
   "cell_type": "markdown",
   "metadata": {},
   "source": [
    "Se pueden definir también números complejos"
   ]
  },
  {
   "cell_type": "code",
   "execution_count": 12,
   "metadata": {
    "collapsed": false
   },
   "outputs": [
    {
     "data": {
      "text/plain": [
       "complex"
      ]
     },
     "execution_count": 12,
     "metadata": {},
     "output_type": "execute_result"
    }
   ],
   "source": [
    "x = 3.0 + 4.0j\n",
    "type(x)"
   ]
  },
  {
   "cell_type": "code",
   "execution_count": 10,
   "metadata": {
    "collapsed": false
   },
   "outputs": [
    {
     "data": {
      "text/plain": [
       "3.0"
      ]
     },
     "execution_count": 10,
     "metadata": {},
     "output_type": "execute_result"
    }
   ],
   "source": [
    "x.real"
   ]
  },
  {
   "cell_type": "code",
   "execution_count": 11,
   "metadata": {
    "collapsed": false
   },
   "outputs": [
    {
     "data": {
      "text/plain": [
       "4.0"
      ]
     },
     "execution_count": 11,
     "metadata": {},
     "output_type": "execute_result"
    }
   ],
   "source": [
    "x.imag"
   ]
  },
  {
   "cell_type": "markdown",
   "metadata": {},
   "source": [
    "##   Salida en pantalla"
   ]
  },
  {
   "cell_type": "code",
   "execution_count": 5,
   "metadata": {
    "collapsed": false
   },
   "outputs": [
    {
     "data": {
      "text/plain": [
       "str"
      ]
     },
     "execution_count": 5,
     "metadata": {},
     "output_type": "execute_result"
    }
   ],
   "source": [
    "d = \"Hola\"\n",
    "print type(d)"
   ]
  },
  {
   "cell_type": "code",
   "execution_count": 2,
   "metadata": {
    "collapsed": false
   },
   "outputs": [
    {
     "name": "stdout",
     "output_type": "stream",
     "text": [
      "<type 'str'>\n"
     ]
    }
   ],
   "source": [
    "f = \"H\"\n",
    "g = \"o\"\n",
    "h = \"l\"\n",
    "i = \"a\"\n",
    "print type(f)"
   ]
  },
  {
   "cell_type": "code",
   "execution_count": 3,
   "metadata": {
    "collapsed": false
   },
   "outputs": [
    {
     "data": {
      "text/plain": [
       "'Hola'"
      ]
     },
     "execution_count": 3,
     "metadata": {},
     "output_type": "execute_result"
    }
   ],
   "source": [
    "f + g + h + i"
   ]
  },
  {
   "cell_type": "code",
   "execution_count": 9,
   "metadata": {
    "collapsed": false
   },
   "outputs": [
    {
     "data": {
      "text/plain": [
       "'Ho la'"
      ]
     },
     "execution_count": 9,
     "metadata": {},
     "output_type": "execute_result"
    }
   ],
   "source": [
    "f + g + \" \" + h + i"
   ]
  },
  {
   "cell_type": "markdown",
   "metadata": {},
   "source": [
    "#### Historial de resultados\n",
    "\n",
    "IPython guarda el resultado de Out[n] en la variable _n"
   ]
  },
  {
   "cell_type": "code",
   "execution_count": 10,
   "metadata": {
    "collapsed": false
   },
   "outputs": [
    {
     "data": {
      "text/plain": [
       "'Ho la'"
      ]
     },
     "execution_count": 10,
     "metadata": {},
     "output_type": "execute_result"
    }
   ],
   "source": [
    "_9"
   ]
  },
  {
   "cell_type": "code",
   "execution_count": 15,
   "metadata": {
    "collapsed": false
   },
   "outputs": [
    {
     "data": {
      "text/plain": [
       "0.0"
      ]
     },
     "execution_count": 15,
     "metadata": {},
     "output_type": "execute_result"
    }
   ],
   "source": [
    "_13"
   ]
  },
  {
   "cell_type": "markdown",
   "metadata": {},
   "source": [
    "Ejecutando comandos de la CLI de Linux desde ipython"
   ]
  },
  {
   "cell_type": "code",
   "execution_count": 16,
   "metadata": {
    "collapsed": false
   },
   "outputs": [
    {
     "name": "stdout",
     "output_type": "stream",
     "text": [
      "\u001b[0m\u001b[01;34mbase_notebooks\u001b[0m/                     Python_listas_tuplas.ipynb\r\n",
      "Notebook_primer_clase_python.ipynb  README.md\r\n"
     ]
    }
   ],
   "source": [
    "ls"
   ]
  },
  {
   "cell_type": "code",
   "execution_count": 17,
   "metadata": {
    "collapsed": false
   },
   "outputs": [
    {
     "name": "stdout",
     "output_type": "stream",
     "text": [
      "\u001b[0m\u001b[01;34mbase_notebooks\u001b[0m/                     Python_listas_tuplas.ipynb\r\n",
      "Notebook_primer_clase_python.ipynb  README.md\r\n"
     ]
    }
   ],
   "source": [
    "%ls"
   ]
  },
  {
   "cell_type": "code",
   "execution_count": 19,
   "metadata": {
    "collapsed": true
   },
   "outputs": [],
   "source": [
    "%history?"
   ]
  },
  {
   "cell_type": "markdown",
   "metadata": {},
   "source": [
    "Para mostrar un mensaje en pantalla, se hace uso del comando ***print***. En el ejemplo siguiente se muestran varios usos del comando ***print*** en una sola celda, asi como en un script. Note que el resultado final muestra el resultado de cada uno de los comandos. Note tambien que las lineas que comienzan con el simbolo **#** no se muestran en pantalla (son para comentar el código y el interprete las ignora al momento de la ejecución)"
   ]
  },
  {
   "cell_type": "code",
   "execution_count": 7,
   "metadata": {
    "collapsed": false
   },
   "outputs": [
    {
     "name": "stdout",
     "output_type": "stream",
     "text": [
      "Hola a todos\n",
      "1.43 2 3.43\n",
      "<type 'float'>\n",
      "<type 'int'>\n",
      "<type 'float'>\n",
      "a= 1.43  b= 2  c= 3.43\n",
      "a=1.430000  b=2  c=   3.430\n",
      "forma 3:  hola \n",
      "forma 4:  hola  nuevamente\n",
      "\n",
      "Este es \n",
      "un mensaje en \n",
      "varias lineas\n",
      "============================================================\n",
      "Nuevamente estoy\n",
      "mostrando un mensaje\n",
      "en varias lineas\n",
      "pero con otra forma de sintaxis\n",
      "C: 13.098000\n",
      "suma: 9.000000\n",
      "============================================================\n",
      "//////////=====//////////=====\n"
     ]
    }
   ],
   "source": [
    "#!/usr/bin/env python\n",
    "\n",
    "\n",
    "# Forma 1 de mostrar mensaje en pantalla\n",
    "print \"Hola a todos\"\n",
    "\n",
    "# Asignacion de variables\n",
    "a=1.43\n",
    "b=2\n",
    "c=a+b\n",
    "\n",
    "\"\"\"\n",
    "Forma 2: mostrar valores de variables\n",
    "Se muestran los valores de una forma sencilla\n",
    "\"\"\"\n",
    "print a,b,c\n",
    "\n",
    "#Además, podemos visualizar el tipo de variable que contienen\n",
    "print type(a)\n",
    "print type(b)\n",
    "\n",
    "#Qué tipo de variable se espera para la variable c?\n",
    "print type(c)\n",
    "\n",
    "# Forma 3: mostrar valores de variables\n",
    "print \"a=\",a,\" b=\",b,\" c=\",c\n",
    "\n",
    "# Forma 4: mostrar valores de variables\n",
    "print \"a=%f  b=%d  c=%8.3f\"%(a,b,c)\n",
    "#\"\"\"\n",
    "#===============================\n",
    "# Se redefinen las variables\n",
    "#===============================\n",
    "\n",
    "# Aqui el operador \"+\" esta sobrecargado\n",
    "# porque se pueden sumar tiras de caracteres\n",
    "a='hola '\n",
    "b=' nuevamente'\n",
    "c=a+b\n",
    "\n",
    "print \"forma 3: \",a\n",
    "print \"forma 4:  %s\"%c\n",
    "\n",
    "# Forma 5: mostrar mensaje en varias lineas\n",
    "# Se hace uso de la secuencia de escape \"\\n\"\n",
    "print \"\\nEste es \\nun mensaje en \\nvarias lineas\"\n",
    "\n",
    "# Forma 5: otra forma de mostrar mensaje en varias lineas\n",
    "c=13.098\n",
    "\n",
    "print \"=\"*60    # En la pantalla aparece el simbolo \"=\" 60 veces, en una sola linea\n",
    "print '''Nuevamente estoy\n",
    "mostrando un mensaje\n",
    "en varias lineas\n",
    "pero con otra forma de sintaxis\n",
    "C: %f\n",
    "suma: %f'''%(c,4.5+4.5)\n",
    "\n",
    "print \"=\"*60\n",
    "print 2*(10*\"/\" + 5*\"=\")"
   ]
  },
  {
   "cell_type": "markdown",
   "metadata": {},
   "source": [
    "#### PARA HACER EN CLASE:\n",
    "\n",
    ">Copie el contenido de la anterior celda y guárdelo en un archivo de texto con el nombre Programa_print.py.\n",
    "\n",
    ">Para ejectutarlo, habra la terminal y pásese a la ubicacion en donde está guardado el archivo. Ahi ejecute la siguiente orden:\n",
    "\n",
    ">    $python Programa_print.py\n",
    "\n",
    "\n",
    ">Otra forma de correr el código, es primero convertirlo en ejecutable haciendo uso del comando **chmod** : \n",
    "\n",
    ">    $chmod +x Programa_print.py\n",
    "\n",
    ">y luego, ejecutar la siguiente orden:\n",
    "\n",
    ">    $./Programa_print.py"
   ]
  },
  {
   "cell_type": "markdown",
   "metadata": {},
   "source": [
    "## Entrada por teclado"
   ]
  },
  {
   "cell_type": "markdown",
   "metadata": {},
   "source": [
    "En python hay dos funciones que permiten leer los datos ingresados por el usuario a traves del teclado: <font color='red'>input</font> y  <font color='red'>raw_input</font>"
   ]
  },
  {
   "cell_type": "code",
   "execution_count": 1,
   "metadata": {
    "collapsed": false
   },
   "outputs": [
    {
     "name": "stdout",
     "output_type": "stream",
     "text": [
      "Ingrese el valor de la base\n",
      "10\n",
      "\n",
      "base:  10\n",
      "<type 'int'>\n"
     ]
    }
   ],
   "source": [
    "print 'Ingrese el valor de la base'\n",
    "\n",
    "# forma 1 de leer datos por teclado\n",
    "base = input()\n",
    "\n",
    "print \"\\nbase: \", base\n",
    "print type(base)"
   ]
  },
  {
   "cell_type": "markdown",
   "metadata": {},
   "source": [
    "El comando `input` solo acepta entradas numéricas. Si la entrada es una letra, se obtiene un error al momento de ejecutarse:"
   ]
  },
  {
   "cell_type": "code",
   "execution_count": 2,
   "metadata": {
    "collapsed": false
   },
   "outputs": [
    {
     "name": "stdout",
     "output_type": "stream",
     "text": [
      "a\n"
     ]
    },
    {
     "ename": "NameError",
     "evalue": "name 'a' is not defined",
     "output_type": "error",
     "traceback": [
      "\u001b[1;31m---------------------------------------------------------------------------\u001b[0m",
      "\u001b[1;31mNameError\u001b[0m                                 Traceback (most recent call last)",
      "\u001b[1;32m<ipython-input-2-3d9302635a11>\u001b[0m in \u001b[0;36m<module>\u001b[1;34m()\u001b[0m\n\u001b[1;32m----> 1\u001b[1;33m \u001b[0mbase\u001b[0m \u001b[1;33m=\u001b[0m \u001b[0minput\u001b[0m\u001b[1;33m(\u001b[0m\u001b[1;33m)\u001b[0m\u001b[1;33m\u001b[0m\u001b[0m\n\u001b[0m",
      "\u001b[1;32m/usr/local/lib/python2.7/dist-packages/ipykernel/ipkernel.pyc\u001b[0m in \u001b[0;36m<lambda>\u001b[1;34m(prompt)\u001b[0m\n\u001b[0;32m    139\u001b[0m             \u001b[0mself\u001b[0m\u001b[1;33m.\u001b[0m\u001b[0m_sys_eval_input\u001b[0m \u001b[1;33m=\u001b[0m \u001b[0mbuiltin_mod\u001b[0m\u001b[1;33m.\u001b[0m\u001b[0minput\u001b[0m\u001b[1;33m\u001b[0m\u001b[0m\n\u001b[0;32m    140\u001b[0m             \u001b[0mbuiltin_mod\u001b[0m\u001b[1;33m.\u001b[0m\u001b[0mraw_input\u001b[0m \u001b[1;33m=\u001b[0m \u001b[0mself\u001b[0m\u001b[1;33m.\u001b[0m\u001b[0mraw_input\u001b[0m\u001b[1;33m\u001b[0m\u001b[0m\n\u001b[1;32m--> 141\u001b[1;33m             \u001b[0mbuiltin_mod\u001b[0m\u001b[1;33m.\u001b[0m\u001b[0minput\u001b[0m \u001b[1;33m=\u001b[0m \u001b[1;32mlambda\u001b[0m \u001b[0mprompt\u001b[0m\u001b[1;33m=\u001b[0m\u001b[1;34m''\u001b[0m\u001b[1;33m:\u001b[0m \u001b[0meval\u001b[0m\u001b[1;33m(\u001b[0m\u001b[0mself\u001b[0m\u001b[1;33m.\u001b[0m\u001b[0mraw_input\u001b[0m\u001b[1;33m(\u001b[0m\u001b[0mprompt\u001b[0m\u001b[1;33m)\u001b[0m\u001b[1;33m)\u001b[0m\u001b[1;33m\u001b[0m\u001b[0m\n\u001b[0m\u001b[0;32m    142\u001b[0m         \u001b[0mself\u001b[0m\u001b[1;33m.\u001b[0m\u001b[0m_save_getpass\u001b[0m \u001b[1;33m=\u001b[0m \u001b[0mgetpass\u001b[0m\u001b[1;33m.\u001b[0m\u001b[0mgetpass\u001b[0m\u001b[1;33m\u001b[0m\u001b[0m\n\u001b[0;32m    143\u001b[0m         \u001b[0mgetpass\u001b[0m\u001b[1;33m.\u001b[0m\u001b[0mgetpass\u001b[0m \u001b[1;33m=\u001b[0m \u001b[0mself\u001b[0m\u001b[1;33m.\u001b[0m\u001b[0mgetpass\u001b[0m\u001b[1;33m\u001b[0m\u001b[0m\n",
      "\u001b[1;32m/usr/local/lib/python2.7/dist-packages/ipykernel/ipkernel.pyc\u001b[0m in \u001b[0;36m<module>\u001b[1;34m()\u001b[0m\n",
      "\u001b[1;31mNameError\u001b[0m: name 'a' is not defined"
     ]
    }
   ],
   "source": [
    "base = input()"
   ]
  },
  {
   "cell_type": "markdown",
   "metadata": {},
   "source": [
    "La otra forma de leer entradas desde el teclado en python es:"
   ]
  },
  {
   "cell_type": "code",
   "execution_count": 40,
   "metadata": {
    "collapsed": false
   },
   "outputs": [
    {
     "name": "stdout",
     "output_type": "stream",
     "text": [
      "Ingrese el valor de la altura: 20\n"
     ]
    }
   ],
   "source": [
    "# forma 2 de leer datos por teclado\n",
    "altura = raw_input('Ingrese el valor de la altura: ')"
   ]
  },
  {
   "cell_type": "code",
   "execution_count": 42,
   "metadata": {
    "collapsed": false
   },
   "outputs": [
    {
     "data": {
      "text/plain": [
       "'20'"
      ]
     },
     "execution_count": 42,
     "metadata": {},
     "output_type": "execute_result"
    }
   ],
   "source": [
    "altura"
   ]
  },
  {
   "cell_type": "code",
   "execution_count": 43,
   "metadata": {
    "collapsed": false
   },
   "outputs": [
    {
     "data": {
      "text/plain": [
       "str"
      ]
     },
     "execution_count": 43,
     "metadata": {},
     "output_type": "execute_result"
    }
   ],
   "source": [
    "type(altura)"
   ]
  },
  {
   "cell_type": "markdown",
   "metadata": {},
   "source": [
    "Para convertir la entrada a un valor numérico, se hace la conversión o _casting_ (solo si el dato que se ingresa es un número)"
   ]
  },
  {
   "cell_type": "code",
   "execution_count": 44,
   "metadata": {
    "collapsed": false
   },
   "outputs": [
    {
     "name": "stdout",
     "output_type": "stream",
     "text": [
      "Ingrese el valor de la altura: \n",
      "20\n"
     ]
    }
   ],
   "source": [
    "altura = float(raw_input('Ingrese el valor de la altura: \\n'))"
   ]
  },
  {
   "cell_type": "code",
   "execution_count": 45,
   "metadata": {
    "collapsed": false
   },
   "outputs": [
    {
     "data": {
      "text/plain": [
       "float"
      ]
     },
     "execution_count": 45,
     "metadata": {},
     "output_type": "execute_result"
    }
   ],
   "source": [
    "type(altura)"
   ]
  },
  {
   "cell_type": "markdown",
   "metadata": {},
   "source": [
    "O tambien haciendo uso del comando *eval*, que determina de forma automática el tipo de variable ingresada (si es numérica)"
   ]
  },
  {
   "cell_type": "code",
   "execution_count": 46,
   "metadata": {
    "collapsed": false
   },
   "outputs": [
    {
     "name": "stdout",
     "output_type": "stream",
     "text": [
      "Ingrese el valor de la altura: \n",
      "20\n"
     ]
    }
   ],
   "source": [
    "altura = eval(raw_input('Ingrese el valor de la altura: \\n'))"
   ]
  },
  {
   "cell_type": "code",
   "execution_count": 47,
   "metadata": {
    "collapsed": false
   },
   "outputs": [
    {
     "data": {
      "text/plain": [
       "int"
      ]
     },
     "execution_count": 47,
     "metadata": {},
     "output_type": "execute_result"
    }
   ],
   "source": [
    "type(altura)"
   ]
  },
  {
   "cell_type": "markdown",
   "metadata": {},
   "source": [
    "#### Un ejemplo"
   ]
  },
  {
   "cell_type": "markdown",
   "metadata": {},
   "source": [
    "El siguiente código calcula el área de un triangulo. Recuerde que este se puede escribir o copiar en un script y ejecutarse desde la terminal."
   ]
  },
  {
   "cell_type": "code",
   "execution_count": 48,
   "metadata": {
    "collapsed": false
   },
   "outputs": [
    {
     "name": "stdout",
     "output_type": "stream",
     "text": [
      "Este programa calcula el area de un triangulo\n",
      "Ingrese el valor de la base (m): \n",
      "10\n",
      "Ingrese el valor de la altura (m): \n",
      "3\n",
      "El area del triangulo con base b:10.000 m y altura h:3.000 m es 15.000 m^2\n"
     ]
    }
   ],
   "source": [
    "#!/usr/bin/env python\n",
    "\n",
    "print \"Este programa calcula el area de un triangulo\"\n",
    "print \"Ingrese el valor de la base (m): \"\n",
    "\n",
    "# forma 1 de leer datos por teclado\n",
    "base = input()\n",
    "\n",
    "# forma 2 de leer datos por teclado\n",
    "altura = float(raw_input('Ingrese el valor de la altura (m): \\n'))\n",
    "\n",
    "# Se calcula el area\n",
    "Area= base*altura*0.5\n",
    "\n",
    "print \"El area del triangulo con base b:%.3f m y altura h:%.3f m es %.3f m^2\"%(base,altura,Area)"
   ]
  },
  {
   "cell_type": "markdown",
   "metadata": {},
   "source": [
    "## Condicionales"
   ]
  },
  {
   "cell_type": "markdown",
   "metadata": {},
   "source": [
    "Como se vió en la parte de algoritmia, los condicionales son estructuras de control que sirven para que un programa \"tome decisiones\" acorde a alguna condicion dada."
   ]
  },
  {
   "cell_type": "markdown",
   "metadata": {},
   "source": [
    "La sintaxis de un condicional en python esta dada por:\n",
    "\n",
    "```python\n",
    "if condicion:\n",
    "    accion1\n",
    "    accion2\n",
    "    accion3\n",
    "    .\n",
    "    .\n",
    "    .\n",
    "```\n",
    "\n",
    "O si son estructuras combinadas:\n",
    "\n",
    "\n",
    "\n",
    "```python\n",
    "IF-ELSE:                             IF-ELIF-ELSE:                  IF-IF:\n",
    "==============                       =================              ==============\n",
    "if condicion:                        if condicion1:                 if condicion1:\n",
    "    acciones                             acciones                       acciones\n",
    "else:                                elif condicion2:               if condicion2:\n",
    "    accion por defecto                   acciones                       acciones\n",
    "                                     elif condicion3:               .\n",
    "                                     .                              .\n",
    "                                     .                              .\n",
    "                                     .                              \n",
    "                                     else:\n",
    "                                         accion por defecto\n",
    "```"
   ]
  },
  {
   "cell_type": "markdown",
   "metadata": {},
   "source": [
    "A continuación se muestra un ejemplo donde se hace uso de los condicionales:"
   ]
  },
  {
   "cell_type": "code",
   "execution_count": 55,
   "metadata": {
    "collapsed": false
   },
   "outputs": [
    {
     "name": "stdout",
     "output_type": "stream",
     "text": [
      "Este programa realiza la operacion entre dos numeros que el usuarion ingrese or teclado.\n",
      "Opciones:\n",
      "\t1. Suma\n",
      "\t2. Resta\n",
      "\t3. Multiplicacion\n",
      "\t4. Division\n",
      "ELIJA UNA OPCION: 4\n",
      "ingrese los numeros: \n",
      "2.0\n",
      "3.0\n",
      "La Division es: 2 / 3 = 0\n"
     ]
    }
   ],
   "source": [
    "#!/usr/bin/python\n",
    "\n",
    "print \"Este programa realiza la operacion entre dos numeros que el usuarion ingrese or teclado.\"\n",
    "print \"Opciones:\"\n",
    "print \"\\t1. Suma\"\n",
    "print \"\\t2. Resta\"\n",
    "print \"\\t3. Multiplicacion\"\n",
    "print \"\\t4. Division\"\n",
    "opcion = raw_input( \"ELIJA UNA OPCION: \")\n",
    "print \"ingrese los numeros: \"\n",
    "a = input()\n",
    "b = input()\n",
    "\n",
    "if opcion == \"1\":\n",
    "    print \"La suma es: %d + %d = %d\"%(a, b, a+b)\n",
    "elif opcion == \"2\":\n",
    "    print \"La resta es: %d - %d =  %d\"%(a, b, a-b)\n",
    "elif opcion == \"3\":\n",
    "    print \"La Multiplicacion es: %d * %d = %d\"%(a, b, a*b)\n",
    "elif opcion == \"4\":\n",
    "    print \"La Division es: %d / %d = %d\"%(a, b, a/b)\n",
    "else:\n",
    "    print \"Debe escoger una opcion dada en el menu.\""
   ]
  },
  {
   "cell_type": "markdown",
   "metadata": {},
   "source": [
    "Note que en la linea 9 no fue necesario de hacer el casting para el valor entrado por teclado. En este caso se puede utilizar el valor numérico como un string y no como un valor como tal."
   ]
  },
  {
   "cell_type": "markdown",
   "metadata": {},
   "source": [
    "El siguiente programa calcula la solución a una ecuacion cuadrática y hace uso de los condicionales para verificar todas las opciones posibles."
   ]
  },
  {
   "cell_type": "code",
   "execution_count": 58,
   "metadata": {
    "collapsed": false
   },
   "outputs": [
    {
     "name": "stdout",
     "output_type": "stream",
     "text": [
      "Ingrese el valor de a: 1.0\n",
      "Ingrese el valor de b: 3.0\n",
      "Ingrese el valor de c: 1.0\n",
      "==================================================\n",
      "Las soluciones a la ecuación cuadratica son\n",
      "x1: -0.382     x2: -2.618\n",
      "==================================================\n"
     ]
    }
   ],
   "source": [
    "#!/usr/bin/python\n",
    "\n",
    "#====================================================================================================\n",
    "# Programa : SolCuadratica.py\n",
    "# Descripcion : Este programa calcula la solucion a una ecuacion cuadratica, dado los coeficientes\n",
    "#               a, b y c\n",
    "# Fecha : la fecha\n",
    "# Autor : Mi nombre\n",
    "#====================================================================================================\n",
    "\n",
    "a = float(raw_input(\"Ingrese el valor de a: \"))\n",
    "b = float(raw_input(\"Ingrese el valor de b: \"))\n",
    "c = float(raw_input(\"Ingrese el valor de c: \"))\n",
    "\n",
    "if a != 0:\n",
    "    disc = b**2 - 4*a*c\n",
    "    if disc>0:\n",
    "        x1 = (-b + disc**0.5)/(2.0*a)\n",
    "        x2 = (-b - disc**0.5)/(2.0*a)\n",
    "        print \"=\"*50\n",
    "        print \"Las soluciones a la ecuación cuadratica son\"\n",
    "        print \"x1: %.3f     x2: %.3f\"%( x1, x2)\n",
    "        print \"=\"*50\n",
    "    else:\n",
    "        print \"No hay soluciones reales\"\n",
    "else:\n",
    "    if b != 0:\n",
    "        x = -c/b\n",
    "        print \"La solucion de la ecuacion es x = %.3f \"%x\n",
    "    else:\n",
    "        if c != 0:\n",
    "            print \"La ecuacion no tiene solución\"\n",
    "        else:\n",
    "            print \"La ecuacion tiene infinitas soluciones\""
   ]
  },
  {
   "cell_type": "markdown",
   "metadata": {},
   "source": [
    "## Ciclos"
   ]
  },
  {
   "cell_type": "markdown",
   "metadata": {},
   "source": [
    "Como se vio en la parte de algoritmia, los ciclos son estructuras que sirven para hacer tareas repetitivas en un programa. En esta parte vamos a ver los dos ciclos utilizados en la mayoria de los lenguajes de programacion:\n",
    "\n",
    "  * Ciclo <font color='green'>for</font>\n",
    "  * Ciclo <font color='green'>while</font>"
   ]
  },
  {
   "cell_type": "markdown",
   "metadata": {},
   "source": [
    "### Ciclo while"
   ]
  },
  {
   "cell_type": "markdown",
   "metadata": {},
   "source": [
    "La sintaxis de ciclo _while_ en python es:\n",
    "\n",
    "```python\n",
    "while condicion:\n",
    "    ordenes\n",
    "\n",
    "```"
   ]
  },
  {
   "cell_type": "code",
   "execution_count": 59,
   "metadata": {
    "collapsed": false
   },
   "outputs": [
    {
     "name": "stdout",
     "output_type": "stream",
     "text": [
      "Ingrese un numero:  3\n",
      "Desde que número quiere la tabla:  1\n",
      "Hasta que número quiere la tabla:  14\n",
      "****************************************\n",
      "3 x 1 = 3\n",
      "3 x 2 = 6\n",
      "3 x 3 = 9\n",
      "3 x 4 = 12\n",
      "3 x 5 = 15\n",
      "3 x 6 = 18\n",
      "3 x 7 = 21\n",
      "3 x 8 = 24\n",
      "3 x 9 = 27\n",
      "3 x 10 = 30\n",
      "3 x 11 = 33\n",
      "3 x 12 = 36\n",
      "3 x 13 = 39\n",
      "3 x 14 = 42\n"
     ]
    }
   ],
   "source": [
    "#!/usr/bin/env python\n",
    "\n",
    "\n",
    "#====================================================================================================\n",
    "# Programa : TablaMultiplicar.py\n",
    "# Descripcion : Este programa calcula la tabla de multiplicar de un numero dado por el usuario\n",
    "#               El usuario puede ingresar los numeros inicial y final de la tabla\n",
    "# Fecha : la fecha\n",
    "# Autor : Mi nombre\n",
    "#====================================================================================================\n",
    "\n",
    "\n",
    "a=int(raw_input(\"Ingrese un numero:  \"))\n",
    "low = int(raw_input(\"Desde que número quiere la tabla:  \"))\n",
    "up = int(raw_input(\"Hasta que número quiere la tabla:  \"))\n",
    "\n",
    "print \"*\"*40\n",
    "# Uso del ciclo while\n",
    "i=low\n",
    "while i<=up:\n",
    "    print \"%d x %d = %d\"%(a,i,a*i) #note que se pueden hacer operaciones en el parentesis\n",
    "    i+=1 # Esta linea es equivalente a escribir: i = i + 1"
   ]
  },
  {
   "cell_type": "markdown",
   "metadata": {},
   "source": [
    "### Ciclo for"
   ]
  },
  {
   "cell_type": "markdown",
   "metadata": {},
   "source": [
    "Para estudiar el ciclo for, es necesario hacer un parentesis sobre un tipo de variable que se usa en python: una **lista**.\n",
    "\n",
    "Una lista como su nombre lo dice, es un conjunto o secuencia de datos guardados en una variable. Es como un arreglo. Para crear una lista en python se hace uso del comando **range**. Su sintaxis es la siguiente:\n",
    "\n",
    "```python\n",
    "range(valor inicial,valor final, paso)\n",
    "```\n",
    "lo cual genera una secuencia: [valor inicial, valor inicial + paso, valor inicial +2\\*paso,...,valor final-paso]"
   ]
  },
  {
   "cell_type": "code",
   "execution_count": 60,
   "metadata": {
    "collapsed": false
   },
   "outputs": [
    {
     "data": {
      "text/plain": [
       "[0, 1, 2, 3, 4, 5, 6, 7, 8, 9]"
      ]
     },
     "execution_count": 60,
     "metadata": {},
     "output_type": "execute_result"
    }
   ],
   "source": [
    "range(0,10)"
   ]
  },
  {
   "cell_type": "markdown",
   "metadata": {},
   "source": [
    "Note que se genero una secuencia que va desde el 0 hasta el valor final menos 1 (*10-1=9*) y con un incremento de 1. Los valores generados por esta funcion siempre son enteros\n",
    "Tambien se puede utilizar un incremento distinto de 1"
   ]
  },
  {
   "cell_type": "code",
   "execution_count": 61,
   "metadata": {
    "collapsed": false
   },
   "outputs": [
    {
     "data": {
      "text/plain": [
       "[0, 2, 4, 6, 8, 10, 12, 14, 16, 18]"
      ]
     },
     "execution_count": 61,
     "metadata": {},
     "output_type": "execute_result"
    }
   ],
   "source": [
    "range(0,20,2)"
   ]
  },
  {
   "cell_type": "markdown",
   "metadata": {},
   "source": [
    "El comando **range** hace uso de la RAM, ya que los valores creados se almacenan en memoria. Para el caso en el que el número de entradas es muy grande, es mas util hacer uso del comando **xrange**,ya que procura evitar el uso de la RAM. Para mayor informacion,mirar el tutorial de la pagina de python dado en este [link](https://docs.python.org/2/library/functions.html#xrange)"
   ]
  },
  {
   "cell_type": "code",
   "execution_count": 10,
   "metadata": {
    "collapsed": false
   },
   "outputs": [
    {
     "data": {
      "text/plain": [
       "xrange(10)"
      ]
     },
     "execution_count": 10,
     "metadata": {},
     "output_type": "execute_result"
    }
   ],
   "source": [
    "xrange(10)"
   ]
  },
  {
   "cell_type": "markdown",
   "metadata": {},
   "source": [
    "Veamos ahora el uso del ciclo for. La sintaxis es:\n",
    "\n",
    "```python\n",
    "for variable in serie de valores:\n",
    "    accion\n",
    "    accion\n",
    "    ...\n",
    "    accion\n",
    "    ```"
   ]
  },
  {
   "cell_type": "code",
   "execution_count": 64,
   "metadata": {
    "collapsed": false
   },
   "outputs": [
    {
     "name": "stdout",
     "output_type": "stream",
     "text": [
      "Forma 1\n",
      "0\n",
      "1\n",
      "2\n",
      "3\n",
      "4\n",
      "5\n",
      "6\n",
      "7\n",
      "8\n",
      "9\n",
      "\n",
      "Forma2\n",
      "contador:  0\n",
      "contador:  3\n",
      "contador:  6\n",
      "contador:  9\n",
      "contador:  12\n",
      "contador:  15\n",
      "contador:  18\n",
      "\n",
      "Forma3: Con xrange\n",
      "0\n",
      "1\n",
      "2\n",
      "3\n",
      "4\n",
      "\n",
      "Forma 4\n",
      "2\n",
      "3\n",
      "4\n",
      "5\n",
      "6\n",
      "7\n",
      "8\n",
      "9\n"
     ]
    }
   ],
   "source": [
    "print \"Forma 1\"\n",
    "for i in range(10) :\n",
    "    print i \n",
    "\n",
    "print \"\\nForma2\"\n",
    "for contador in range(0,20,3):\n",
    "    print \"contador: \",contador\n",
    "    \n",
    "print \"\\nForma3: Con xrange\"\n",
    "for j in xrange(5):\n",
    "    print j\n",
    "\n",
    "a = range(2,10)\n",
    "print \"\\nForma 4\"\n",
    "for k in a:\n",
    "    print k"
   ]
  },
  {
   "cell_type": "markdown",
   "metadata": {},
   "source": [
    "En realidad lo que hace el ciclo for es recorrer cada uno de los valores de la lista. Si el usuario define una lista de forma manual (mas adelante se vera con mas detalle el uso de listas), el ciclo for recorrerá cada uno de esos valores, por ejemplo:"
   ]
  },
  {
   "cell_type": "code",
   "execution_count": 65,
   "metadata": {
    "collapsed": false
   },
   "outputs": [
    {
     "name": "stdout",
     "output_type": "stream",
     "text": [
      "1\n",
      "30\n",
      "40.2\n",
      "hola\n"
     ]
    }
   ],
   "source": [
    "lista = [1, 30, 40.2, \"hola\"]\n",
    "for value in lista:\n",
    "    print value"
   ]
  },
  {
   "cell_type": "markdown",
   "metadata": {},
   "source": [
    "Veamos ahora un ejemplo sencillo: Calcular la suma de los n primeros numeros naturales. Verificaremos que \n",
    "$$\\sum_{i=1}^{n}i = \\frac{n(n+1)}{2}$$"
   ]
  },
  {
   "cell_type": "code",
   "execution_count": 66,
   "metadata": {
    "collapsed": false
   },
   "outputs": [
    {
     "name": "stdout",
     "output_type": "stream",
     "text": [
      "La suma de los 50 primeros numeros es: 1275\n",
      "La suma de los 50 primeros numeros, con la formula es: 1275\n"
     ]
    }
   ],
   "source": [
    "n = 50\n",
    "sum = 0\n",
    "for i in xrange(1,n+1):\n",
    "    sum = sum + i\n",
    "print \"La suma de los %d primeros numeros es: %d\"%(n,sum)\n",
    "print \"La suma de los %d primeros numeros, con la formula es: %d\"%(n,n*(n+1)*0.5)"
   ]
  },
  {
   "cell_type": "markdown",
   "metadata": {},
   "source": [
    "El comando o sentencia **break** permite romper la ejecución de un ciclo:"
   ]
  },
  {
   "cell_type": "code",
   "execution_count": 4,
   "metadata": {
    "collapsed": false
   },
   "outputs": [
    {
     "name": "stdout",
     "output_type": "stream",
     "text": [
      "La suma se interrumpió para i= 4\n",
      "Hecho\n"
     ]
    }
   ],
   "source": [
    "n = 50\n",
    "sum = 0\n",
    "for i in xrange(1,n+1):\n",
    "    sum = sum + i\n",
    "    if sum == 10:\n",
    "        print \"La suma se interrumpió para i=\", i\n",
    "        break\n",
    "        \n",
    "print \"Hecho\""
   ]
  },
  {
   "cell_type": "markdown",
   "metadata": {},
   "source": [
    "## Rutinas"
   ]
  },
  {
   "cell_type": "markdown",
   "metadata": {},
   "source": [
    "Una de las maneras mas practicas en programación para resolver un problema en programacion que sea complejo, es dividirlo en pequeñas partes o soluciones, hasta obtener el resultado final. Cada una de estas pequeñas \"soluciones\" son fragmentos de codigo que representan un pequeño programa y se les llama **rutina, modulo o funcion**. Una rutina o modulo se encarga de realizar una tarea especifica.\n",
    "\n",
    "Cuando se intenta resolver un problema de forma computacional, y este se subdivide en modulos, el uso secuencial de cada uno de ellos produce la solucion final del problema. A este modo de programar se le conoce como **programación modular**.\n",
    "\n",
    "La forma de definir una funcion/rutina/modulo en python es la siguiente:\n",
    "\n",
    "```python\n",
    "def Nombre_funcion(argumento1, argumento2, ..., argumento N):\n",
    "    ordenes\n",
    "    ...\n",
    "    return valor(es)\n",
    "```\n",
    "\n",
    "\n",
    "Por ejemplo:"
   ]
  },
  {
   "cell_type": "code",
   "execution_count": 67,
   "metadata": {
    "collapsed": false
   },
   "outputs": [
    {
     "name": "stdout",
     "output_type": "stream",
     "text": [
      "Forma 1:  10.0\n",
      "Forma 2:  10.0\n",
      "Forma 3:  10.0\n"
     ]
    }
   ],
   "source": [
    "def funcion(x):\n",
    "    f = 3*x+1\n",
    "    return f\n",
    "\n",
    "# Forma 1 de llamarla:\n",
    "print \"Forma 1: \",funcion(3.0)\n",
    "\n",
    "#forma 2:\n",
    "# El valor numerico esta almacenado en una variable\n",
    "x = 3.0\n",
    "print \"Forma 2: \",funcion(x)\n",
    "\n",
    "#forma 3:\n",
    "# El valor resultante de la funcion se guarda en una variable\n",
    "F = funcion(x)\n",
    "print \"Forma 3: \",F"
   ]
  },
  {
   "cell_type": "markdown",
   "metadata": {},
   "source": [
    "Se pueden pasar mas argumentos a una funcion:"
   ]
  },
  {
   "cell_type": "code",
   "execution_count": 69,
   "metadata": {
    "collapsed": false
   },
   "outputs": [
    {
     "name": "stdout",
     "output_type": "stream",
     "text": [
      "52.0\n"
     ]
    }
   ],
   "source": [
    "def funcion(x,a,b,c):\n",
    "    f = a*x**2 + b*x + c\n",
    "    return f\n",
    "\n",
    "a = 1.0\n",
    "b = 2.0\n",
    "c = 4.0\n",
    "x = 6.0\n",
    "print funcion(x,a,b,c)"
   ]
  },
  {
   "cell_type": "markdown",
   "metadata": {},
   "source": [
    "Tambien se puede pasar una función a otra funcion (rutina como argumento de otra rutina). Por ejemplo, la siguiente funcion calcula la derivada de forma numérica de una función.\n",
    "\n",
    "La funcion es $f(x) = 4x^2+3x+2$ y se calculará la derivada numérica en el punto $x=3$"
   ]
  },
  {
   "cell_type": "code",
   "execution_count": 70,
   "metadata": {
    "collapsed": false
   },
   "outputs": [
    {
     "name": "stdout",
     "output_type": "stream",
     "text": [
      "27.0\n"
     ]
    }
   ],
   "source": [
    "# Se define la funcion\n",
    "def F(x):\n",
    "    return (4*x**2 + 3*x + 2)\n",
    "\n",
    "# Se define la derivada numerica\n",
    "def dFdx(f,x0,h=1E-3):\n",
    "    dfdx = ( f(x0+h) - f(x0-h) ) /( 2*h )\n",
    "    return dfdx\n",
    "\n",
    "xp = 3.0\n",
    "print dFdx(F,xp)"
   ]
  },
  {
   "cell_type": "markdown",
   "metadata": {},
   "source": [
    "## Importar librerias"
   ]
  },
  {
   "cell_type": "markdown",
   "metadata": {},
   "source": [
    "Muchas veces uno tiene un conjunto de funciones o rutinas que pueden ser utiles en alguna situacion especifica, por ejemplo: rutinas que hagan operaciones vectorial, que calculen la derivada o la integral numérica, que hagan permutaciones, que resuelvan una ecuacion diferencial, que calcule los elementos orbitales de un sistema, que lean las condiciones iniciales de un problema.\n",
    "\n",
    "Una de las ventajas de python es que tiene muchas librerias que pueden ser implementadas para nuestros programas (no toca reinventar la rueda) y que ya estan optimizadas. Imaginen que python es como la estructura en la cual uds pueden crear su propio juguete, a su gusto.\n",
    "\n",
    "La forma de importar librerias en python es la siguiente:\n",
    "\n",
    "```python\n",
    "#============================================================\n",
    "# Forma 1\n",
    "# De esta forma se importan las funciones de una libreria\n",
    "#\n",
    "#  Forma de hacer uso de una funcion de la libreria : \n",
    "#\n",
    "#       libreria.funcion(args..)\n",
    "#============================================================\n",
    "import libreria\n",
    "\n",
    "#============================================================\n",
    "# Forma 2\n",
    "# Se importa la libreria pero con un acrónimo (nombre corto)\n",
    "# \n",
    "# Uso:\n",
    "#     nombre_corto.funcion(args...)\n",
    "#============================================================\n",
    "import libreria as nombre_corto\n",
    "\n",
    "#============================================================\n",
    "# Forma 3\n",
    "# Se importan solo algunas funciones de una libreria\n",
    "# \n",
    "# Uso:\n",
    "#     funcion(args...)\n",
    "#============================================================\n",
    "from libreria import rutina1,rutina2,...,rutinaN\n",
    "\n",
    "```"
   ]
  },
  {
   "cell_type": "markdown",
   "metadata": {},
   "source": [
    "#### Forma 1:"
   ]
  },
  {
   "cell_type": "markdown",
   "metadata": {},
   "source": [
    "Vamos a hacer uso de la libreria math, que contiene las funciones matemáticas básicas ([Pagina de las funciones de la libreria math]( https://docs.python.org/2/library/math.html))"
   ]
  },
  {
   "cell_type": "code",
   "execution_count": 71,
   "metadata": {
    "collapsed": false
   },
   "outputs": [
    {
     "name": "stdout",
     "output_type": "stream",
     "text": [
      "1.41421356237\n"
     ]
    }
   ],
   "source": [
    "import math\n",
    "\n",
    "# Forma de llamar una funcion de la libreria\n",
    "print math.sqrt(2)"
   ]
  },
  {
   "cell_type": "markdown",
   "metadata": {},
   "source": [
    "Noten que si se llama la funcion sqrt() solo con su nombre, se obtiene un error:"
   ]
  },
  {
   "cell_type": "code",
   "execution_count": 72,
   "metadata": {
    "collapsed": false
   },
   "outputs": [
    {
     "ename": "NameError",
     "evalue": "name 'sqrt' is not defined",
     "output_type": "error",
     "traceback": [
      "\u001b[1;31m---------------------------------------------------------------------------\u001b[0m",
      "\u001b[1;31mNameError\u001b[0m                                 Traceback (most recent call last)",
      "\u001b[1;32m<ipython-input-72-40e415486bd6>\u001b[0m in \u001b[0;36m<module>\u001b[1;34m()\u001b[0m\n\u001b[1;32m----> 1\u001b[1;33m \u001b[0msqrt\u001b[0m\u001b[1;33m(\u001b[0m\u001b[1;36m2\u001b[0m\u001b[1;33m)\u001b[0m\u001b[1;33m\u001b[0m\u001b[0m\n\u001b[0m",
      "\u001b[1;31mNameError\u001b[0m: name 'sqrt' is not defined"
     ]
    }
   ],
   "source": [
    "sqrt(2)"
   ]
  },
  {
   "cell_type": "markdown",
   "metadata": {},
   "source": [
    "#### Forma 2"
   ]
  },
  {
   "cell_type": "code",
   "execution_count": 74,
   "metadata": {
    "collapsed": false
   },
   "outputs": [
    {
     "name": "stdout",
     "output_type": "stream",
     "text": [
      "2.71828182846\n"
     ]
    }
   ],
   "source": [
    "import math as m\n",
    "\n",
    "# Forma de llamar una funcion de esta forma\n",
    "print m.exp(1)"
   ]
  },
  {
   "cell_type": "markdown",
   "metadata": {},
   "source": [
    "#### Forma 3"
   ]
  },
  {
   "cell_type": "markdown",
   "metadata": {},
   "source": [
    "Observe que de esta forma si se puede hacer uso solamente del nombre de la funcion. Tenga en cuenta que solo estas dos funciones de math son las que se importaron, el resto no han sido cargadas."
   ]
  },
  {
   "cell_type": "code",
   "execution_count": 76,
   "metadata": {
    "collapsed": false
   },
   "outputs": [
    {
     "name": "stdout",
     "output_type": "stream",
     "text": [
      "1.41421356237\n",
      "2.71828182846\n"
     ]
    },
    {
     "ename": "NameError",
     "evalue": "name 'log10' is not defined",
     "output_type": "error",
     "traceback": [
      "\u001b[1;31m---------------------------------------------------------------------------\u001b[0m",
      "\u001b[1;31mNameError\u001b[0m                                 Traceback (most recent call last)",
      "\u001b[1;32m<ipython-input-76-d5f9724ac93a>\u001b[0m in \u001b[0;36m<module>\u001b[1;34m()\u001b[0m\n\u001b[0;32m      3\u001b[0m \u001b[1;32mprint\u001b[0m \u001b[0msqrt\u001b[0m\u001b[1;33m(\u001b[0m\u001b[1;36m2\u001b[0m\u001b[1;33m)\u001b[0m\u001b[1;33m\u001b[0m\u001b[0m\n\u001b[0;32m      4\u001b[0m \u001b[1;32mprint\u001b[0m \u001b[0mexp\u001b[0m\u001b[1;33m(\u001b[0m\u001b[1;36m1\u001b[0m\u001b[1;33m)\u001b[0m\u001b[1;33m\u001b[0m\u001b[0m\n\u001b[1;32m----> 5\u001b[1;33m \u001b[1;32mprint\u001b[0m \u001b[0mlog10\u001b[0m\u001b[1;33m(\u001b[0m\u001b[1;36m4\u001b[0m\u001b[1;33m)\u001b[0m\u001b[1;33m\u001b[0m\u001b[0m\n\u001b[0m",
      "\u001b[1;31mNameError\u001b[0m: name 'log10' is not defined"
     ]
    }
   ],
   "source": [
    "from math import sqrt,exp\n",
    "\n",
    "print sqrt(2)\n",
    "print exp(1)\n",
    "print log10(4)"
   ]
  },
  {
   "cell_type": "markdown",
   "metadata": {},
   "source": [
    "Si se quieren cargar o importar todas las funciones de la libreria, se procede de la siguiente forma:"
   ]
  },
  {
   "cell_type": "code",
   "execution_count": 77,
   "metadata": {
    "collapsed": false
   },
   "outputs": [
    {
     "name": "stdout",
     "output_type": "stream",
     "text": [
      "1.41421356237\n",
      "2.71828182846\n",
      "0.602059991328\n"
     ]
    }
   ],
   "source": [
    "from math import *\n",
    "\n",
    "print sqrt(2)\n",
    "print exp(1)\n",
    "print log10(4)"
   ]
  },
  {
   "cell_type": "markdown",
   "metadata": {},
   "source": [
    "Note que todas las funciones fueron cargadas, haciendo uso del **comodin \"*\" **"
   ]
  },
  {
   "cell_type": "code",
   "execution_count": null,
   "metadata": {
    "collapsed": true
   },
   "outputs": [],
   "source": []
  }
 ],
 "metadata": {
  "kernelspec": {
   "display_name": "Python 2",
   "language": "python",
   "name": "python2"
  },
  "language_info": {
   "codemirror_mode": {
    "name": "ipython",
    "version": 2
   },
   "file_extension": ".py",
   "mimetype": "text/x-python",
   "name": "python",
   "nbconvert_exporter": "python",
   "pygments_lexer": "ipython2",
   "version": "2.7.6"
  }
 },
 "nbformat": 4,
 "nbformat_minor": 0
}
