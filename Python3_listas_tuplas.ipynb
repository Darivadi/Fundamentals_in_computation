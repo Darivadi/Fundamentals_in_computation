{
 "cells": [
  {
   "cell_type": "markdown",
   "metadata": {},
   "source": [
    "###### Material para el curso de Fundamentos en computación UdeA - 2016"
   ]
  },
  {
   "cell_type": "markdown",
   "metadata": {},
   "source": [
    "# Listas"
   ]
  },
  {
   "cell_type": "code",
   "execution_count": 1,
   "metadata": {
    "collapsed": true
   },
   "outputs": [],
   "source": [
    "a = [\"pan\", \"huevos\", 100, 1234]"
   ]
  },
  {
   "cell_type": "code",
   "execution_count": 2,
   "metadata": {
    "collapsed": false
   },
   "outputs": [
    {
     "data": {
      "text/plain": [
       "list"
      ]
     },
     "execution_count": 2,
     "metadata": {},
     "output_type": "execute_result"
    }
   ],
   "source": [
    "type(a)"
   ]
  },
  {
   "cell_type": "code",
   "execution_count": 3,
   "metadata": {
    "collapsed": false
   },
   "outputs": [
    {
     "data": {
      "text/plain": [
       "['pan', 'huevos', 100, 1234]"
      ]
     },
     "execution_count": 3,
     "metadata": {},
     "output_type": "execute_result"
    }
   ],
   "source": [
    "a"
   ]
  },
  {
   "cell_type": "markdown",
   "metadata": {},
   "source": [
    "Se puede tener acceso a cada elemento de la lista. Los elementos están indexados en un zero-based (indexados basados en cero). Es decir, si hay 4 elementos, el primero tiene índice 0 y el último tiene índice 3. Utilizar un índice mayor (por ejemplo 4) incurrirá en un error."
   ]
  },
  {
   "cell_type": "code",
   "execution_count": 4,
   "metadata": {
    "collapsed": false
   },
   "outputs": [
    {
     "data": {
      "text/plain": [
       "'pan'"
      ]
     },
     "execution_count": 4,
     "metadata": {},
     "output_type": "execute_result"
    }
   ],
   "source": [
    "a[0]"
   ]
  },
  {
   "cell_type": "code",
   "execution_count": 5,
   "metadata": {
    "collapsed": false
   },
   "outputs": [
    {
     "data": {
      "text/plain": [
       "1234"
      ]
     },
     "execution_count": 5,
     "metadata": {},
     "output_type": "execute_result"
    }
   ],
   "source": [
    "a[3]"
   ]
  },
  {
   "cell_type": "code",
   "execution_count": 6,
   "metadata": {
    "collapsed": false
   },
   "outputs": [
    {
     "ename": "IndexError",
     "evalue": "list index out of range",
     "output_type": "error",
     "traceback": [
      "\u001b[1;31m---------------------------------------------------------------------------\u001b[0m",
      "\u001b[1;31mIndexError\u001b[0m                                Traceback (most recent call last)",
      "\u001b[1;32m<ipython-input-6-54d383a36828>\u001b[0m in \u001b[0;36m<module>\u001b[1;34m()\u001b[0m\n\u001b[1;32m----> 1\u001b[1;33m \u001b[0ma\u001b[0m\u001b[1;33m[\u001b[0m\u001b[1;36m4\u001b[0m\u001b[1;33m]\u001b[0m\u001b[1;33m\u001b[0m\u001b[0m\n\u001b[0m",
      "\u001b[1;31mIndexError\u001b[0m: list index out of range"
     ]
    }
   ],
   "source": [
    "a[4]"
   ]
  },
  {
   "cell_type": "markdown",
   "metadata": {},
   "source": [
    "El último elemento de la lista puede accederse con un índice i = -1"
   ]
  },
  {
   "cell_type": "code",
   "execution_count": 7,
   "metadata": {
    "collapsed": false
   },
   "outputs": [
    {
     "data": {
      "text/plain": [
       "1234"
      ]
     },
     "execution_count": 7,
     "metadata": {},
     "output_type": "execute_result"
    }
   ],
   "source": [
    "a[-1]"
   ]
  },
  {
   "cell_type": "markdown",
   "metadata": {},
   "source": [
    "Puedo tener acceso a los primeros i-1 elementos de una lista: Si i = 2, tengo acceso a los elementos con índice i = 0, i = 1."
   ]
  },
  {
   "cell_type": "code",
   "execution_count": 8,
   "metadata": {
    "collapsed": false
   },
   "outputs": [
    {
     "data": {
      "text/plain": [
       "['pan', 'huevos']"
      ]
     },
     "execution_count": 8,
     "metadata": {},
     "output_type": "execute_result"
    }
   ],
   "source": [
    "a[:2]"
   ]
  },
  {
   "cell_type": "markdown",
   "metadata": {},
   "source": [
    "Y a los últimos elementos de arreglo a partir del índice i. Si i = 2, tengo acceso a los elementos con índice i = 2 e i = 3:"
   ]
  },
  {
   "cell_type": "code",
   "execution_count": 9,
   "metadata": {
    "collapsed": false
   },
   "outputs": [
    {
     "data": {
      "text/plain": [
       "[100, 1234]"
      ]
     },
     "execution_count": 9,
     "metadata": {},
     "output_type": "execute_result"
    }
   ],
   "source": [
    "a[2:]"
   ]
  },
  {
   "cell_type": "markdown",
   "metadata": {},
   "source": [
    "Puedo cambiar un elemento individual"
   ]
  },
  {
   "cell_type": "code",
   "execution_count": 10,
   "metadata": {
    "collapsed": false
   },
   "outputs": [],
   "source": [
    "a[2] = a[2] + 23"
   ]
  },
  {
   "cell_type": "code",
   "execution_count": 11,
   "metadata": {
    "collapsed": false
   },
   "outputs": [
    {
     "data": {
      "text/plain": [
       "['pan', 'huevos', 123, 1234]"
      ]
     },
     "execution_count": 11,
     "metadata": {},
     "output_type": "execute_result"
    }
   ],
   "source": [
    "a"
   ]
  },
  {
   "cell_type": "markdown",
   "metadata": {},
   "source": [
    "Puedo rebanar la lista. Hay que tener en cuenta que el índice 3 no se toma, así como se vio anteriormente."
   ]
  },
  {
   "cell_type": "code",
   "execution_count": 12,
   "metadata": {
    "collapsed": false
   },
   "outputs": [
    {
     "data": {
      "text/plain": [
       "['huevos', 123]"
      ]
     },
     "execution_count": 12,
     "metadata": {},
     "output_type": "execute_result"
    }
   ],
   "source": [
    "a[1:3]"
   ]
  },
  {
   "cell_type": "markdown",
   "metadata": {},
   "source": [
    "Reemplazar elementos"
   ]
  },
  {
   "cell_type": "code",
   "execution_count": 13,
   "metadata": {
    "collapsed": false
   },
   "outputs": [
    {
     "data": {
      "text/plain": [
       "[1, 2, 123, 1234]"
      ]
     },
     "execution_count": 13,
     "metadata": {},
     "output_type": "execute_result"
    }
   ],
   "source": [
    "a[0:2] = [1,2]\n",
    "a"
   ]
  },
  {
   "cell_type": "markdown",
   "metadata": {},
   "source": [
    "Borrar elementos"
   ]
  },
  {
   "cell_type": "code",
   "execution_count": 14,
   "metadata": {
    "collapsed": false
   },
   "outputs": [
    {
     "data": {
      "text/plain": [
       "[123, 1234]"
      ]
     },
     "execution_count": 14,
     "metadata": {},
     "output_type": "execute_result"
    }
   ],
   "source": [
    "a[0:2] = []\n",
    "a"
   ]
  },
  {
   "cell_type": "markdown",
   "metadata": {},
   "source": [
    "Hallar la longitud de la lista"
   ]
  },
  {
   "cell_type": "code",
   "execution_count": 15,
   "metadata": {
    "collapsed": false
   },
   "outputs": [
    {
     "data": {
      "text/plain": [
       "2"
      ]
     },
     "execution_count": 15,
     "metadata": {},
     "output_type": "execute_result"
    }
   ],
   "source": [
    "len(a)"
   ]
  },
  {
   "cell_type": "markdown",
   "metadata": {},
   "source": [
    "Concatenar y repetir listas (análogo a las cadenas de caracteres)"
   ]
  },
  {
   "cell_type": "code",
   "execution_count": 42,
   "metadata": {
    "collapsed": false
   },
   "outputs": [
    {
     "name": "stdout",
     "output_type": "stream",
     "text": [
      "[1.0, 2.0, 5.0, 10.0, 2.0, 2.0, 2.0, 2.0]\n",
      "----------------------------------------------------------------------------------------------------\n",
      "[1.0, 2.0, 5.0, 10.0, 1.0, 2.0, 5.0, 10.0, 1.0, 2.0, 5.0, 10.0, 2.0, 2.0, 2.0, 2.0]\n"
     ]
    }
   ],
   "source": [
    "b = [1.0, 2.0, 5.0, 10.0]\n",
    "c = [2.0, 2.0, 2.0, 2.0]\n",
    "d = b + c\n",
    "print( d)\n",
    "print(100*\"-\")\n",
    "print(3*b+c)"
   ]
  },
  {
   "cell_type": "markdown",
   "metadata": {},
   "source": [
    "Revertir una lista"
   ]
  },
  {
   "cell_type": "code",
   "execution_count": 39,
   "metadata": {
    "collapsed": false
   },
   "outputs": [
    {
     "name": "stdout",
     "output_type": "stream",
     "text": [
      "e =  [10.0, 5.0, 2.0, 1.0]\n",
      "--------------------------------------------------\n",
      "f =  [1.0, 2.0, 5.0, 10.0]\n",
      "f =  [10.0, 5.0, 2.0, 1.0]\n"
     ]
    }
   ],
   "source": [
    "e = b[::-1]\n",
    "print (\"e = \", e)\n",
    "print (50*\"-\")\n",
    "f = b\n",
    "print (\"f = \", f )\n",
    "f.reverse()\n",
    "print (\"f = \",f)"
   ]
  },
  {
   "cell_type": "markdown",
   "metadata": {},
   "source": [
    "Es posible crear listas de listas"
   ]
  },
  {
   "cell_type": "code",
   "execution_count": 29,
   "metadata": {
    "collapsed": false
   },
   "outputs": [
    {
     "data": {
      "text/plain": [
       "[1, [2, 3], 4]"
      ]
     },
     "execution_count": 29,
     "metadata": {},
     "output_type": "execute_result"
    }
   ],
   "source": [
    "q = [2,3]\n",
    "p = [1,q,4]\n",
    "p"
   ]
  },
  {
   "cell_type": "code",
   "execution_count": 30,
   "metadata": {
    "collapsed": false
   },
   "outputs": [
    {
     "data": {
      "text/plain": [
       "3"
      ]
     },
     "execution_count": 30,
     "metadata": {},
     "output_type": "execute_result"
    }
   ],
   "source": [
    "len(p)"
   ]
  },
  {
   "cell_type": "code",
   "execution_count": 31,
   "metadata": {
    "collapsed": false
   },
   "outputs": [
    {
     "name": "stdout",
     "output_type": "stream",
     "text": [
      "[2, 3, 3.5]\n",
      "[1, [2, 3, 3.5], 4]\n"
     ]
    }
   ],
   "source": [
    "q.append(3.5)\n",
    "print (q)\n",
    "print (p)"
   ]
  },
  {
   "cell_type": "markdown",
   "metadata": {},
   "source": [
    "Eliminar elementos de una lista"
   ]
  },
  {
   "cell_type": "code",
   "execution_count": 43,
   "metadata": {
    "collapsed": false
   },
   "outputs": [
    {
     "name": "stdout",
     "output_type": "stream",
     "text": [
      "[1.0, 2.0, 5.0, 10.0]\n",
      "[1.0, 5.0, 10.0]\n"
     ]
    }
   ],
   "source": [
    "print (b)\n",
    "del b[1]\n",
    "print (b)"
   ]
  },
  {
   "cell_type": "markdown",
   "metadata": {},
   "source": [
    "Eliminar la lista completamente"
   ]
  },
  {
   "cell_type": "code",
   "execution_count": 46,
   "metadata": {
    "collapsed": false
   },
   "outputs": [
    {
     "name": "stdout",
     "output_type": "stream",
     "text": [
      "[]\n"
     ]
    }
   ],
   "source": [
    "del b[:]\n",
    "print (b)"
   ]
  },
  {
   "cell_type": "markdown",
   "metadata": {},
   "source": [
    "Más información sobre listas y tuplas en este [link](http://www.dotnetperls.com/slice-python)."
   ]
  },
  {
   "cell_type": "markdown",
   "metadata": {},
   "source": [
    "# Algunos ejemplos con python"
   ]
  },
  {
   "cell_type": "markdown",
   "metadata": {},
   "source": [
    "En esta parte se mostrarán la solución de algunos problemas resueltos con python."
   ]
  },
  {
   "cell_type": "markdown",
   "metadata": {},
   "source": [
    "### Ejemplo 1"
   ]
  },
  {
   "cell_type": "markdown",
   "metadata": {},
   "source": [
    "Un script para el ingreso de datos a una lista"
   ]
  },
  {
   "cell_type": "code",
   "execution_count": 3,
   "metadata": {
    "collapsed": false
   },
   "outputs": [
    {
     "name": "stdout",
     "output_type": "stream",
     "text": [
      "primer forma\n",
      "Ingrese longitud de la lista: 2\n",
      "Ingrese valor: 1\n",
      "Ingrese valor: 2\n",
      "[1, 2]\n",
      "segunda forma\n",
      "Ingrese longitud de la lista: 3\n",
      "Ingrese valor: 2\n",
      "Ingrese valor: 1\n",
      "Ingrese valor: 2\n",
      "[2, 1, 2]\n",
      "Ingresando elementos de una matrix 3x3\n",
      "0 [[0, 0, 0]]\n",
      "Ingrese valor: 1\n",
      "Ingrese valor: 3\n",
      "Ingrese valor: 4\n",
      "1 [[1, 3, 4], [0, 0, 0]]\n",
      "Ingrese valor: 5\n",
      "Ingrese valor: 6\n",
      "Ingrese valor: 7\n",
      "2 [[1, 3, 4], [5, 6, 7], [0, 0, 0]]\n",
      "Ingrese valor: 5\n",
      "Ingrese valor: 3\n",
      "Ingrese valor: 2\n",
      "[[1, 3, 4], [5, 6, 7], [5, 3, 2]]\n"
     ]
    }
   ],
   "source": [
    "#!/usr/bin/python\n",
    "\n",
    "## Una forma de ingresar valores a una lista\n",
    "print (\"primer forma\")\n",
    "n = float(input(\"Ingrese longitud de la lista: \"))\n",
    "lista = []\n",
    "\n",
    "for i in range(n):\n",
    "    val = float(input(\"Ingrese valor: \"))\n",
    "    lista.append(val)\n",
    "\n",
    "print lista\n",
    "\n",
    "## Otra forma\n",
    "print (\"segunda forma\")\n",
    "n = float(input(\"Ingrese longitud de la lista: \"))\n",
    "lista = [0]*n\n",
    "for i in range(n):\n",
    "    lista[i]=float(input(\"Ingrese valor: \"))\n",
    "\n",
    "print (lista)\n",
    "\n",
    "## Ejemplo con una matriz\n",
    "print (\"Ingresando elementos de una matrix 3x3\")\n",
    "lista=[]\n",
    "for i in range(3):\n",
    "    lista.append([0]*3)\n",
    "    print (i, lista)\n",
    "    for j in range(3):\n",
    "        lista[i][j] = float(input(\"Ingrese valor: \")  )\n",
    "\n",
    "print (lista)"
   ]
  },
  {
   "cell_type": "markdown",
   "metadata": {},
   "source": [
    "### Ejemplo 2\n",
    "Encontrando un elemento de una matriz"
   ]
  },
  {
   "cell_type": "code",
   "execution_count": 4,
   "metadata": {
    "collapsed": false
   },
   "outputs": [
    {
     "name": "stdout",
     "output_type": "stream",
     "text": [
      "El numero 4 esta en:\n",
      "Fila 0 Columna 0\n",
      "Fila 1 Columna 0\n"
     ]
    }
   ],
   "source": [
    "#!/usr/bin/python\n",
    "# -*- coding: utf-8 -*-\n",
    "\n",
    "Matriz = [[4,2,43], \\\n",
    "          [4,-5,5], \\\n",
    "          [0,8,9]]\n",
    "\n",
    "num = 4\n",
    "\n",
    "print (\"El numero\", num, \"esta en:\")\n",
    "for i in range(3):\n",
    "    for j in range(3):\n",
    "        if Matriz[i][j] == num:\n",
    "            print (\"Fila\", i,\"Columna\", j)"
   ]
  },
  {
   "cell_type": "markdown",
   "metadata": {},
   "source": [
    "### Ejemplo 3"
   ]
  },
  {
   "cell_type": "markdown",
   "metadata": {},
   "source": [
    "Desde la epoca del emperador chino Yu, se cuenta que una tortuga del río Lo, traia en su espalda uun cuadro con los numeros:\n",
    "\n",
    "$$\n",
    "\\begin{eqnarray*}\n",
    "4 & & \\;\\;9 & & \\;\\;2\\\\\n",
    "3 & & \\;\\;5 & & \\;\\;7\\\\\n",
    "8 & & \\;\\;1 & & \\;\\;6\n",
    "\\end{eqnarray*}\n",
    "$$\n",
    "\n"
   ]
  },
  {
   "cell_type": "markdown",
   "metadata": {},
   "source": [
    "Escriba un programa que utilice una matriz para guardar estos números y compruebe que la suma de los números de cada fila, de cada columna o de cada diagonal es el mismo número.\n",
    "\n",
    "El programa debe escribir el resultado y además especificar de cuál columna. fila o diagonal se trata"
   ]
  },
  {
   "cell_type": "markdown",
   "metadata": {},
   "source": [
    "##### Solucion"
   ]
  },
  {
   "cell_type": "markdown",
   "metadata": {},
   "source": [
    "Se muestra una forma de resolver el problema haciendo uso de elementos basicos de programacion en python, haciendo uso de listas y ciclos."
   ]
  },
  {
   "cell_type": "code",
   "execution_count": 3,
   "metadata": {
    "collapsed": false
   },
   "outputs": [
    {
     "name": "stdout",
     "output_type": "stream",
     "text": [
      "************************************************************\n",
      "\n",
      "El resultado de la suma es:\n",
      "fila 1:               15\n",
      "fila 2:               15\n",
      "fila 3:               15\n",
      "columna 1:            15\n",
      "columna 2:            15\n",
      "columna 3:            15\n",
      "diagonal principal:   15\n",
      "diagonal secundaria:  15\n",
      "\n",
      "************************************************************\n"
     ]
    }
   ],
   "source": [
    "#!/usr/bin/python\n",
    "\n",
    "Matriz = [[4,9,2],\n",
    "          [3,5,7],\n",
    "          [8,1,6]]\n",
    "\n",
    "# Se crea una lista de 8 entradas, donde se van\n",
    "# a almacenar el valor de cada suma\n",
    "# Otra forma de hacerlo es:\n",
    "# sumas = [0]*8\n",
    "\n",
    "sumas = [0,0,0,0,0,0,0,0]\n",
    "\n",
    "nfilas = len(Matriz) # numero de filas\n",
    "ncolumnas = len(Matriz[0]) #numero de columnas\n",
    "\n",
    "for i in range(nfilas):\n",
    "    \n",
    "    #Suma en las filas\n",
    "    sumas[0] = sumas[0] + Matriz[0][i] #fila 0\n",
    "    sumas[1] = sumas[1] + Matriz[1][i] #fila 1\n",
    "    sumas[2] = sumas[2] + Matriz[2][i] #fila 2\n",
    "    \n",
    "    #Suma en columnas\n",
    "    sumas[3] = sumas[3] + Matriz[i][0] #Columna 0\n",
    "    sumas[4] = sumas[4] + Matriz[i][1] #Columna 1\n",
    "    sumas[5] = sumas[5] + Matriz[i][2] #Columna 2\n",
    "    \n",
    "    #Suma en diagonales\n",
    "    sumas[6] = sumas[6] + Matriz[i][i] #Diagonal principal\n",
    "    sumas[7] = sumas[7] + Matriz[(nfilas-1)-i][i]\n",
    "    \n",
    "print (\"*\"*60)\n",
    "print (\"\"\"\n",
    "El resultado de la suma es:\n",
    "fila 1:               %d\n",
    "fila 2:               %d\n",
    "fila 3:               %d\n",
    "columna 1:            %d\n",
    "columna 2:            %d\n",
    "columna 3:            %d\n",
    "diagonal principal:   %d\n",
    "diagonal secundaria:  %d\n",
    "\"\"\"%(sumas[0],sumas[1],sumas[2],sumas[3],sumas[4],sumas[5],sumas[6],sumas[7]))\n",
    "print (\"*\"*60)\n",
    "    \n",
    "    \n",
    "    \n"
   ]
  },
  {
   "cell_type": "markdown",
   "metadata": {},
   "source": [
    "Note que la matriz en realidad es una lista de listas, esto es:  [ [4,9,2] , [3,5,7] , [8,1,6] ]. Noten que cada entrada de la lista es una lista. La primera entrada de la lista es: Matriz[0] -> [4,9,2], que es una lista. De esta forma podemos crear matrices e hipermatrices\n",
    "\n",
    "La funcion `len()` se usa para saber la longitud de la matriz. Para este caso, `len(Matriz)` da el número de elementos de la matriz, que son 3 (en este caso, 3 listas como entradas), y `len(Matriz[0])` da el número entradas de la sublista ubicada en la entrada 0 de la lista *Matriz*"
   ]
  },
  {
   "cell_type": "markdown",
   "metadata": {},
   "source": [
    "Otra forma de resolver este problema es haciendo uso de la libreria Numpy. Notara que se hace de una forma mas rápida y practica (Se verá más adelante)"
   ]
  },
  {
   "cell_type": "code",
   "execution_count": 22,
   "metadata": {
    "collapsed": false
   },
   "outputs": [
    {
     "name": "stdout",
     "output_type": "stream",
     "text": [
      "************************************************************\n",
      "\n",
      "El resultado de la suma es:\n",
      "fila 1:               15\n",
      "fila 2:               15\n",
      "fila 3:               15\n",
      "columna 1:            15\n",
      "columna 2:            15\n",
      "columna 3:            15\n",
      "diagonal principal:   15\n",
      "diagonal secundaria:  15\n",
      "\n",
      "************************************************************\n"
     ]
    }
   ],
   "source": [
    "#!/usr/bin/python\n",
    "\n",
    "import numpy as np\n",
    "\n",
    "#Se define la matriz como un array bidimensional de Numpy\n",
    "M = np.array([[4,9,2],\n",
    "              [3,5,7],\n",
    "              [8,1,6]])\n",
    "\n",
    "# Suma de filas\n",
    "filas = np.sum(M,axis=1)\n",
    "\n",
    "# Suma de columnas\n",
    "columnas = np.sum(M,axis=0)\n",
    "\n",
    "# Suma diagonal principal\n",
    "# Se calcula la traza de la matriz\n",
    "diagp = np.trace(M)\n",
    "\n",
    "# Suma de la diagonal secundaria\n",
    "diags = np.trace(M,axis2=1)\n",
    "\n",
    "print (\"*\"*60)\n",
    "print (\"\"\"\n",
    "El resultado de la suma es:\n",
    "fila 1:               %d\n",
    "fila 2:               %d\n",
    "fila 3:               %d\n",
    "columna 1:            %d\n",
    "columna 2:            %d\n",
    "columna 3:            %d\n",
    "diagonal principal:   %d\n",
    "diagonal secundaria:  %d\n",
    "\"\"\"%(filas[0],filas[1],filas[2],\n",
    "     columnas[0],columnas[1],columnas[2],\n",
    "     diagp,diags) )\n",
    "print (\"*\"*60)"
   ]
  },
  {
   "cell_type": "markdown",
   "metadata": {},
   "source": [
    "para esta otra forma, se hace uso de la libreria Numpy que ya tiene implementado funciones que calculan la suma de los elementos de una matriz. Note que se puede cambiar la configuracion: `axis=0` para que la suma se haga por columnas y `axis=1` para que la suma se haga por filas;  si no se activa ninguna de estas dos opciones, la funcion calcula la suma de todas las entradas de la matriz. La función `trace` de la libreria calcula la traza de una matriz ([Traza de una matriz](https://es.wikipedia.org/wiki/Traza_%28%C3%A1lgebra_lineal%29)). Por ejemplo:"
   ]
  },
  {
   "cell_type": "code",
   "execution_count": 24,
   "metadata": {
    "collapsed": false
   },
   "outputs": [
    {
     "name": "stdout",
     "output_type": "stream",
     "text": [
      "Suma total:  45\n",
      "En filas:  [ 6 15 24]\n",
      "En columnas:  [12 15 18]\n",
      "Diagonal principal (Traza):  15\n",
      "Diagonal secundaria:  15\n"
     ]
    }
   ],
   "source": [
    "A = np.array([[1,2,3],\n",
    "              [4,5,6],\n",
    "              [7,8,9]])\n",
    "print (\"Suma total: \",np.sum(A))\n",
    "print (\"En filas: \",np.sum(A,axis=1))\n",
    "print (\"En columnas: \",np.sum(A,axis=0))\n",
    "print (\"Diagonal principal (Traza): \",np.trace(A))\n",
    "print (\"Diagonal secundaria: \", np.trace(A,axis2=1))"
   ]
  },
  {
   "cell_type": "markdown",
   "metadata": {},
   "source": [
    " - - -"
   ]
  },
  {
   "cell_type": "markdown",
   "metadata": {},
   "source": [
    "### Ejercicio 1"
   ]
  },
  {
   "cell_type": "markdown",
   "metadata": {},
   "source": [
    ">Elaborar un programa que calcule aproximadamente la longitud de una circunferencia de radio r (dado por el usuario) a partir del perímetro de un poligono regular de n lados (dado también por el usuario) inscrito en la circunferencia. ¿ Cuál es el valor de n para el cual el perímetro del polígono difiere del perímetro real de la circunferencia en un 1%? "
   ]
  },
  {
   "cell_type": "markdown",
   "metadata": {},
   "source": [
    "##### Sugerencias:"
   ]
  },
  {
   "cell_type": "markdown",
   "metadata": {},
   "source": [
    "Tenga en cuenta que un poligono regular tiene lados iguales, ademas el angulo central $\\alpha$ que subtiende cada lado es igual para todos. Por lo tanto, si un poligono tiene N lados, se tiene que $\\alpha = \\dfrac{2\\pi}{N} \\: rad = \\dfrac{360}{N} \\: deg$\n"
   ]
  },
  {
   "cell_type": "markdown",
   "metadata": {},
   "source": [
    "<div style=\"float: left;\" markdown=\"1\">\n",
    "    <img src=\"https://upload.wikimedia.org/wikipedia/commons/thumb/a/ad/Polig_07a.svg/500px-Polig_07a.svg.png\"  width=180px>\n",
    "</div>\n",
    "\n",
    "<div style=\"float: left;\" markdown=\"1\">\n",
    "    <img src=\"https://upload.wikimedia.org/wikipedia/commons/thumb/b/b5/Polig_14b.svg/500px-Polig_14b.svg.png\"  width=180px>\n",
    "</div>\n",
    "\n",
    "<div style=\"float: right;\" markdown=\"1\">\n",
    "    <img src=\"https://upload.wikimedia.org/wikipedia/commons/thumb/e/ef/PoliReg_10.svg/500px-PoliReg_10.svg.png\"  width=180px>\n",
    "</div>\n",
    "\n"
   ]
  },
  {
   "cell_type": "markdown",
   "metadata": {},
   "source": [
    "- - - "
   ]
  },
  {
   "cell_type": "markdown",
   "metadata": {},
   "source": [
    "### Ejemplo 2"
   ]
  },
  {
   "cell_type": "markdown",
   "metadata": {},
   "source": [
    "Elaborar un programa en el que dado un número N, haga una lista de todos los divisores de ese número"
   ]
  },
  {
   "cell_type": "markdown",
   "metadata": {},
   "source": [
    "##### Solucion"
   ]
  },
  {
   "cell_type": "markdown",
   "metadata": {},
   "source": [
    "Para resolver este problema tenga en cuenta que si un número es divisor de otro, el residuo de la division es igual a cero. En este problema haremos uso del operador % (módulo) que nos da como resultado el residio de la division de dos numeros."
   ]
  },
  {
   "cell_type": "code",
   "execution_count": 31,
   "metadata": {
    "collapsed": false
   },
   "outputs": [
    {
     "name": "stdout",
     "output_type": "stream",
     "text": [
      "Ingrese un numero: 10\n",
      "Los divisores de  10 son :  [1, 2, 5, 10]\n"
     ]
    }
   ],
   "source": [
    "#!/usr/bin/python\n",
    "\n",
    "N = float(input(\"Ingrese un numero: \"))\n",
    "divisores = []\n",
    "for i in range(1,N+1):\n",
    "    residuo = N%i\n",
    "    if residuo==0:\n",
    "        divisores.append(i)\n",
    "print (\"Los divisores de \",N,\"son : \",divisores)\n",
    "        "
   ]
  },
  {
   "cell_type": "markdown",
   "metadata": {},
   "source": [
    "Recuerde que la funcion ``append()`` sirve para añadir entradas a una lista"
   ]
  },
  {
   "cell_type": "markdown",
   "metadata": {},
   "source": [
    "---"
   ]
  },
  {
   "cell_type": "markdown",
   "metadata": {},
   "source": [
    "### Ejercicio 2"
   ]
  },
  {
   "cell_type": "markdown",
   "metadata": {},
   "source": [
    "> El chino Sun Tsu en el año 400 a.C. halló soluciones ára el siguiente problema: encontrar un entero que al dividirlo por 3, el residuo sea 2; al dividirlo por 5, el residuo sea 3, y al dividirlo por 7, el residuo sea 2. escriba un programa que encuentre los números menores que 500, que satisfagan esas condiciones"
   ]
  },
  {
   "cell_type": "markdown",
   "metadata": {},
   "source": [
    "---"
   ]
  },
  {
   "cell_type": "markdown",
   "metadata": {},
   "source": [
    "### Ejemplo 3"
   ]
  },
  {
   "cell_type": "markdown",
   "metadata": {},
   "source": [
    "Escribir un programa en python que calcule el valor de $\\pi$ usando la serie:\n",
    "\n",
    "\n",
    "$$ \\frac{\\pi^2}{6} = \\frac{1}{1^2} + \\frac{1}{2^2} + \\frac{1}{3^2} + \\frac{1}{4^2} + \\frac{1}{5^2} + \\cdots$$"
   ]
  },
  {
   "cell_type": "markdown",
   "metadata": {},
   "source": [
    "##### Solucion"
   ]
  },
  {
   "cell_type": "code",
   "execution_count": 122,
   "metadata": {
    "collapsed": false
   },
   "outputs": [
    {
     "name": "stdout",
     "output_type": "stream",
     "text": [
      "************************************************************\n",
      "Valor numérico de pi:         3.1414926541\n",
      "Valor teorico de pi:          3.1415926536\n",
      "Error:                            0.000100 \n",
      "No de terminos usados:                9549\n",
      "************************************************************\n"
     ]
    }
   ],
   "source": [
    "#!/usr/bin/python\n",
    "import math as m\n",
    "suma = 0.0\n",
    "epsilon = 1E-4\n",
    "i=1\n",
    "while m.fabs( m.sqrt(6*suma)- m.pi)>epsilon:\n",
    "    suma = suma + 1.0/(i**2)\n",
    "    i = i+1\n",
    "\n",
    "Pi_numerical = m.sqrt(6*suma)\n",
    "\n",
    "print (\"*\"*60)\n",
    "print (\"Valor numérico de pi:      %15.10f\"%Pi_numerical)\n",
    "print (\"Valor teorico de pi:       %15.10f\"%m.pi)\n",
    "print (\"Error:                     %15f \"%m.fabs((m.pi-Pi_numerical)) )\n",
    "print (\"No de terminos usados:     %15d\"%(i-1))\n",
    "print (\"*\"*60)"
   ]
  },
  {
   "cell_type": "markdown",
   "metadata": {},
   "source": [
    "---"
   ]
  },
  {
   "cell_type": "markdown",
   "metadata": {},
   "source": [
    "### Ejercicio 3"
   ]
  },
  {
   "cell_type": "markdown",
   "metadata": {},
   "source": [
    ">Elaborar un programa que pida 3 números naturales pequeños $(n < 20)$ y encuentre la lista de todas las tripletas de números naturales que sumen lo mismo que los numeros entrados por el usuario"
   ]
  },
  {
   "cell_type": "markdown",
   "metadata": {},
   "source": [
    " * * *"
   ]
  },
  {
   "cell_type": "markdown",
   "metadata": {},
   "source": [
    "### Ejemplo 4"
   ]
  },
  {
   "cell_type": "markdown",
   "metadata": {},
   "source": [
    "Escribir un programa en el que dado un conjunto de números ingresados por teclado, se muestren en pantalla ordenados de menor a mayor"
   ]
  },
  {
   "cell_type": "markdown",
   "metadata": {},
   "source": [
    "##### Solucion"
   ]
  },
  {
   "cell_type": "code",
   "execution_count": 69,
   "metadata": {
    "collapsed": false
   },
   "outputs": [
    {
     "name": "stdout",
     "output_type": "stream",
     "text": [
      "Este programa organiza de menor a mayor un cjto de numeros ingresados por el usuario\n",
      "Ingrese los números por teclado (ingrese \"n\" para terminar): \n",
      "3\n",
      "1\n",
      "27\n",
      "8\n",
      "-3\n",
      "5\n",
      "-9\n",
      "n\n",
      "**********************************************************************\n",
      "La lista de numeros organizadas de menor a mayor es: \n",
      "[-9.0, -3.0, 1.0, 3.0, 5.0, 8.0, 27.0]\n",
      "**********************************************************************\n"
     ]
    }
   ],
   "source": [
    "#!/usr/bin/python\n",
    "\n",
    "N = \"y\" #opcion inicial\n",
    "number = [] #lista vacia donde se guardaran los numeros\n",
    "\n",
    "print (\"Este programa organiza de menor a mayor un cjto de numeros ingresados por el usuario\")\n",
    "print (\"Ingrese los números por teclado (ingrese \\\"n\\\" para terminar): \")\n",
    "\n",
    "# Se comienzan a ingresar los numeros por teclado.\n",
    "# El ciclo termina cuando el usuario ingresa \"n\"\n",
    "while N != \"n\":\n",
    "    N = float(input())\n",
    "    if N != \"n\":\n",
    "        number.append(float(N))\n",
    "\n",
    "# Se comienza a organizar la lista\n",
    "for i in range(1,len(number)):\n",
    "    for j in range(i):\n",
    "        if number[i]<number[j]:\n",
    "            # Se guarda el numero number[j] en la variable temporal temp\n",
    "            temp = number[j] \n",
    "            \n",
    "            # El numero number[j] es reemplazado por number[i]\n",
    "            number[j] = number[i]\n",
    "            \n",
    "            # El numero number[i] es reemplazado por el antiguo valor\n",
    "            # de number[j]\n",
    "            number[i] = temp\n",
    "\n",
    "print (\"*\"*70)\n",
    "print (\"La lista de numeros organizadas de menor a mayor es: \")\n",
    "print (number)\n",
    "print (\"*\"*70)"
   ]
  },
  {
   "cell_type": "markdown",
   "metadata": {},
   "source": [
    "En este programa se hace uso de uno de los algoritmos de ordenamiento conocido como [*Insertion sort*](https://en.wikipedia.org/wiki/Insertion_sort) y lo que se hace es ir comparando si un numero seleccionado de la lista es menor que los anteriores. Si la condicion se satisface, se reordena la lista."
   ]
  },
  {
   "cell_type": "markdown",
   "metadata": {},
   "source": [
    "\n",
    "<center><img src=\"https://upload.wikimedia.org/wikipedia/commons/0/0f/Insertion-sort-example-300px.gif\"></center>"
   ]
  },
  {
   "cell_type": "markdown",
   "metadata": {},
   "source": [
    "En python se puede hacer uso de su sintaxis para volver mas corto y práctico el código. Hay que tener presente que esta ventaja solo se encuentra dispuesta en python. Si quiere escribir el codigo en otro lenguaje, tiene que resideñar el algortimo. En [esta pagina](http://sorting.at/) pueden encontrar otros algoritmos de ordenamiento. \n",
    "\n",
    "Con la siguiente forma podemos evitar el ciclo while y la necesidad de la condicion de parada:"
   ]
  },
  {
   "cell_type": "code",
   "execution_count": 64,
   "metadata": {
    "collapsed": false
   },
   "outputs": [
    {
     "name": "stdout",
     "output_type": "stream",
     "text": [
      "Entre los numeros (separados por coma) : 3,1,27,8,-3,5,-9\n",
      "items:  [3.0, 1.0, 27.0, 8.0, -3.0, 5.0, -9.0]\n"
     ]
    }
   ],
   "source": [
    "items= [float(x) for x in input(\"Entre los numeros (separados por coma) : \").split(',')]\n",
    "print (\"items: \",items)"
   ]
  },
  {
   "cell_type": "markdown",
   "metadata": {},
   "source": [
    "---"
   ]
  },
  {
   "cell_type": "markdown",
   "metadata": {},
   "source": [
    "### Ejercicio 4"
   ]
  },
  {
   "cell_type": "markdown",
   "metadata": {},
   "source": [
    "> Resuelva el mismo problema pero con la diferencia de que en pantalla se muestren los números de mayor a menor"
   ]
  },
  {
   "cell_type": "markdown",
   "metadata": {},
   "source": [
    " - - -"
   ]
  },
  {
   "cell_type": "markdown",
   "metadata": {},
   "source": [
    "### Ejemplo 5"
   ]
  },
  {
   "cell_type": "markdown",
   "metadata": {},
   "source": [
    "Elaborar un programa en el que dada una funcion matematica, calcule el máximo de una función"
   ]
  },
  {
   "cell_type": "markdown",
   "metadata": {},
   "source": [
    "##### Solucion"
   ]
  },
  {
   "cell_type": "markdown",
   "metadata": {},
   "source": [
    "Para este problema vamos a utilizar la funcion $f(x) = \\sin x/x$ y a hacer uso de la función `arange` de la libreria numpy y tambien usaremos la libreria matplotlib para graficar"
   ]
  },
  {
   "cell_type": "code",
   "execution_count": 2,
   "metadata": {
    "collapsed": false
   },
   "outputs": [
    {
     "name": "stdout",
     "output_type": "stream",
     "text": [
      "Populating the interactive namespace from numpy and matplotlib\n"
     ]
    }
   ],
   "source": [
    "#solo se usa para los notebooks \n",
    "%pylab inline "
   ]
  },
  {
   "cell_type": "code",
   "execution_count": 4,
   "metadata": {
    "collapsed": false
   },
   "outputs": [
    {
     "name": "stdout",
     "output_type": "stream",
     "text": [
      "============================================================\n",
      "(xmax,ymax): (  -2.13e-13  ,  1.00  )\n",
      "============================================================\n"
     ]
    },
    {
     "data": {
      "image/png": "[encoded data removed]",
      "text/plain": [
       "<matplotlib.figure.Figure at 0x7f6dc2a05d10>"
      ]
     },
     "metadata": {},
     "output_type": "display_data"
    }
   ],
   "source": [
    "#!/usr/bin/python\n",
    "\n",
    "import numpy as np\n",
    "import matplotlib.pyplot as plt\n",
    "import matplotlib as mpl\n",
    "\n",
    "# Parametros de la grafica\n",
    "# Se cambia el tamaño de los numeros en los ejes\n",
    "label_size = 15\n",
    "mpl.rcParams['xtick.labelsize'] = label_size \n",
    "mpl.rcParams['ytick.labelsize'] = label_size \n",
    "\n",
    "#========================\n",
    "# Se define la funcion\n",
    "#========================\n",
    "def Function(x):\n",
    "    return np.sin(x)/x\n",
    "\n",
    "\n",
    "\n",
    "\n",
    "\n",
    "#==============================================\n",
    "# calcularemos los pares ordenados (x,f(x))\n",
    "#==============================================\n",
    "\n",
    "# --- forma convencional ---\n",
    "\n",
    "X = np.arange(-10,10,0.01)\n",
    "Y = list() #lista vacia\n",
    "\n",
    "for i in X:\n",
    "    Y.append(Function(i))\n",
    "\n",
    "Y = np.array(Y) # Se convierte la lista en un array de Numpy\n",
    "\n",
    "\n",
    "# --- forma python ---\n",
    "Y2 = Function(X)\n",
    "\n",
    "\n",
    "\n",
    "# Parametros iniciales\n",
    "Ymax = Y2[0]\n",
    "Xmax = X[0]\n",
    "\n",
    "# Determinando el máximo de la funcion\n",
    "for i in range(1,len(Y2)):\n",
    "    if Y2[i]>Ymax:\n",
    "        Ymax = Y2[i]\n",
    "        Xmax = X[i]\n",
    "        \n",
    "print(\"=\"*60)\n",
    "print(\"(xmax,ymax): (  %.2e  ,  %.2f  )\"%(Xmax,Ymax) )\n",
    "print(\"=\"*60)\n",
    "\n",
    "#==============================\n",
    "# Graficando la funcion:\n",
    "#==============================\n",
    "plt.figure(figsize=(10,8))\n",
    "plt.plot(X,Y2,'g-',linewidth=3)\n",
    "plt.xlabel(\"$x$\",fontsize=20)\n",
    "plt.ylabel(\"$f(x) = \\\\frac{\\sin x}{x}$\",fontsize=30)\n",
    "plt.axvline(linewidth = 1.5,linestyle = \"--\",color = \"gray\")\n",
    "plt.axhline(linewidth = 1.5,linestyle = \"--\",color = \"gray\")\n",
    "plt.grid()\n",
    "plt.show()"
   ]
  },
  {
   "cell_type": "markdown",
   "metadata": {},
   "source": [
    "---"
   ]
  },
  {
   "cell_type": "markdown",
   "metadata": {},
   "source": [
    "### Ejercicio 5"
   ]
  },
  {
   "cell_type": "markdown",
   "metadata": {},
   "source": [
    ">En componentes rectangulares, un vector en 3 dimensiones puede ser escrito de la siguiente forma:\n",
    "\n",
    ">\\begin{equation*}\n",
    "\\mathbf{A} = A_x\\mathbf{i} + A_y\\mathbf{j} + A_z\\mathbf{k}\n",
    "\\end{equation*}\n",
    "\n",
    ">donde $A_x,A_y,A_z$ son las componentes del vector. Con esta representación, la suma  $( \\mathbf{C} = \\mathbf{A} +\\mathbf{B} )$ , la resta $(\\mathbf{C} = \\mathbf{A} -\\mathbf{B}) $, el producto escalar $( \\mathbf{A\\cdot B})$ y el producto vectorial $(\\mathbf{A\\times B})$ entre dos vectores queda dado de la siguiente forma:\n",
    "\n",
    ">\\begin{eqnarray*}\n",
    "  \\mathbf{C} &=&  (A_x \\pm B_x)\\mathbf{i} + (A_x \\pm B_x)\\mathbf{i} +(A_x \\pm B_x)\\mathbf{i} \\\\\n",
    " \\mathbf{A\\cdot B} &=&  A_xB_x +  A_yB_y + A_zB_z  \\\\\n",
    "\\mathbf{A\\times B} &=&  (A_yB_z-A_zB_y)\\mathbf{i} - (A_xB_z-A_zB_x)\\mathbf{j} + (A_xB_y-A_yB_x)\\mathbf{k} \\quad \n",
    "\\end{eqnarray*}\n",
    "\n",
    ">Escriba un programa en el que dada las componentes rectangulares de dos vectores $\\mathbf{A}$ y $\\mathbf{B}$ , calcule una de estas operaciónes especificada por el usuario. El programa debe mostrar un menu donde se puedan escoger las siguientes operaciones: suma, resta, producto producto escalar,producto vectorial y *Todas las operaciones* y que permita al usuario ingresar las componentes de cada vector. Si el usuario escoge *Todas las operaciones*, el programa debe mostrar en pantalla el resultado de cada una de ellas."
   ]
  },
  {
   "cell_type": "markdown",
   "metadata": {},
   "source": [
    " - - -"
   ]
  },
  {
   "cell_type": "markdown",
   "metadata": {},
   "source": [
    "### Ejemplo 6"
   ]
  },
  {
   "cell_type": "markdown",
   "metadata": {},
   "source": [
    "Hacer un programa en python para corroborar el resultado de la siguiente serie :\n",
    "\n",
    "$$\\sum_{n=1}^{\\infty} \\frac{1}{(2n+1)(2n-1)} = \\frac{1}{2}$$\n",
    "\n",
    "Graficar el valor de la serie en terminos del número de términos"
   ]
  },
  {
   "cell_type": "markdown",
   "metadata": {},
   "source": [
    "##### Solucion"
   ]
  },
  {
   "cell_type": "code",
   "execution_count": 5,
   "metadata": {
    "collapsed": false
   },
   "outputs": [
    {
     "data": {
      "image/png": "[encoded data removed]",
      "text/plain": [
       "<matplotlib.figure.Figure at 0x7f6defac1050>"
      ]
     },
     "metadata": {},
     "output_type": "display_data"
    }
   ],
   "source": [
    "#!/usr/bin/python\n",
    "\n",
    "import numpy as np\n",
    "import matplotlib.pyplot as plt\n",
    "\n",
    "# Parametros de la grafica\n",
    "# Se cambia el tamaño de los numeros en los ejes\n",
    "label_size = 12\n",
    "mpl.rcParams['xtick.labelsize'] = label_size \n",
    "mpl.rcParams['ytick.labelsize'] = label_size \n",
    "\n",
    "Nterms = 50\n",
    "n = np.arange(1,Nterms+1)\n",
    "suma = 0.0\n",
    "term = 0.0\n",
    "serie = np.array([])\n",
    "for i in n:\n",
    "    term = 1.0/((2*i+1)*(2*i-1))\n",
    "    suma = suma + term\n",
    "    serie = np.append(serie,suma)\n",
    "\n",
    "plt.figure(figsize=(8,6))\n",
    "plt.plot(n,serie,'go-')\n",
    "plt.xlabel(\"$X$\",fontsize=20)\n",
    "plt.ylabel(\"$\\sum_{n=1}^{\\infty} \\\\frac{1}{(2n+1)(2n-1)}$\",fontsize=20)\n",
    "plt.grid()"
   ]
  },
  {
   "cell_type": "markdown",
   "metadata": {},
   "source": [
    "---"
   ]
  },
  {
   "cell_type": "markdown",
   "metadata": {},
   "source": [
    "### Ejercicio 6"
   ]
  },
  {
   "cell_type": "markdown",
   "metadata": {},
   "source": [
    ">Averigue numéricamente si la serie\n",
    "$$ \\sum_{n=2}^{\\infty} \\frac{1}{n\\ln n}$$\n",
    "converge o diverge (esto es, si tiende a un limite o si aumenta al añadir más términos a la serie). Represente graficamente como en el ejemplo anterior"
   ]
  },
  {
   "cell_type": "markdown",
   "metadata": {},
   "source": [
    "---"
   ]
  },
  {
   "cell_type": "markdown",
   "metadata": {},
   "source": [
    "### Ejemplo 6"
   ]
  },
  {
   "cell_type": "markdown",
   "metadata": {},
   "source": [
    "Un cuerpo de $1$ kg de masa se lanza hacia arriba desde una altura de $50$ m  y con una velocidad inicial de  $30$ m/s,en un lugar donde la aceleración de la gravedad es de $9.8\\;m/s^2$. Utilice las formulas generales para la caída libre:\n",
    "\n",
    " \\begin{equation}\n",
    "  y=y_o+v_ot-\\frac{1}{2}gt^2;\\qquad v=v_o-gt\n",
    " \\end{equation}\n",
    " \n",
    "\n",
    " \n",
    "para escribir un programa en python que muestre el tiempo de caida y la velocidad final de la particula cuanto llega al piso."
   ]
  },
  {
   "cell_type": "markdown",
   "metadata": {},
   "source": [
    "##### Solucion"
   ]
  },
  {
   "cell_type": "code",
   "execution_count": 165,
   "metadata": {
    "collapsed": false
   },
   "outputs": [
    {
     "name": "stdout",
     "output_type": "stream",
     "text": [
      "************************************************************\n",
      "Tiempo de caida (s):  4.374000\n",
      "Velocidad Final (m/s): -32.855400\n",
      "Distancia a la que quedó del piso (m): 0.026668 \n",
      "************************************************************\n"
     ]
    },
    {
     "data": {
      "image/png": "[encoded data removed]",
      "text/plain": [
       "<matplotlib.figure.Figure at 0x7f267c0e5150>"
      ]
     },
     "metadata": {},
     "output_type": "display_data"
    }
   ],
   "source": [
    "#!/usr/bin/python\n",
    "\n",
    "import numpy as np\n",
    "import matplotlib.pyplot as plt\n",
    "\n",
    "#===========================\n",
    "# Condiciones iniciales\n",
    "#===========================\n",
    "y0 = 50 #m\n",
    "vy0 = 10.0 # m/s\n",
    "g  = 9.8 # m/s^2\n",
    "t0 = 0.0\n",
    "dt = 0.001 #s\n",
    "m = 1.0 #kg\n",
    "\n",
    "#===========================\n",
    "# Funciones que calculan la\n",
    "# posicion y velocidad\n",
    "#===========================\n",
    "def ypos(t):\n",
    "    return ( y0 + vy0*t - 0.5*g*t*t)\n",
    "\n",
    "def vy(t):\n",
    "    return ( vy0 - g*t)\n",
    "\n",
    "\n",
    "# Se inicializan los arreglos (vacios)\n",
    "Y = []\n",
    "Vy = []\n",
    "\n",
    "#Se inicializan las variables\n",
    "y = y0\n",
    "t = t0\n",
    "\n",
    "while y > 0.0:\n",
    "    y = ypos(t)\n",
    "    v = vy(t)\n",
    "    t = t + dt\n",
    "    \n",
    "    # Se añaden los valores a sus respectivos arreglos\n",
    "    # para poder graficarlos\n",
    "    Y.append(y)\n",
    "    Vy.append(v)\n",
    "\n",
    "\n",
    "print (\"*\"*60)\n",
    "print (\"Tiempo de caida (s):  %f\"%(t-dt) )\n",
    "print (\"Velocidad Final (m/s): %f\"%(Vy[-2]) )\n",
    "print (\"Distancia a la que quedó del piso (m): %f \"%(Y[-2]) )\n",
    "print (\"*\"*60)\n",
    " \n",
    "    \n",
    "#================================\n",
    "# Graficación\n",
    "#================================\n",
    "T = np.arange(t0,t,dt)\n",
    "plt.figure(figsize=(14,5))\n",
    "\n",
    "plt.subplot(1,2,1)\n",
    "plt.plot(T,Y,\"g-\",lw=3)\n",
    "plt.xlabel(\"time (s)\",fontsize=15)\n",
    "plt.ylabel(\"Position (m)\",fontsize=15)\n",
    "plt.axhline(y = y0,linewidth = 1.5,linestyle = \"--\",color = \"blue\",alpha=0.7)\n",
    "plt.axvline(x = 1.0,linewidth = 1.5,linestyle = \"--\",color = \"blue\",alpha=0.7)\n",
    "plt.ylim(ymin=0.0)\n",
    "plt.grid()\n",
    "\n",
    "plt.subplot(1,2,2)\n",
    "plt.plot(T,Vy,\"r-\",lw = 3)\n",
    "plt.xlabel(\"time (s)\",fontsize=15)\n",
    "plt.ylabel(\"Velocity (m/s)\",fontsize=15)\n",
    "plt.axhline(linewidth = 1.5,linestyle = \"--\",color = \"gray\")\n",
    "plt.ylim(ymin=Vy[-2])\n",
    "plt.grid()\n",
    "\n",
    "\n",
    "\n"
   ]
  },
  {
   "cell_type": "markdown",
   "metadata": {},
   "source": [
    "---"
   ]
  },
  {
   "cell_type": "markdown",
   "metadata": {},
   "source": [
    "### Ejercicio 7"
   ]
  },
  {
   "cell_type": "markdown",
   "metadata": {},
   "source": [
    "> Para el problema anterior, haga uso de las fórmulas para la energía cinética ($E_c$) y la energía potencial ($E_p$):\n",
    " \n",
    ">\\begin{equation}\n",
    "E_c=\\frac{1}{2}mv^2;\\qquad E_p=mgy\n",
    "\\end{equation}\n",
    "\n",
    "> para escribir un programa en python en donde se calcule la posicion, velocidad, energia cinetica, energia potencial y energia total de la particula antes de llegar al piso. Hacer los graficos de energía cinetica, energia potencial y energia total."
   ]
  },
  {
   "cell_type": "markdown",
   "metadata": {},
   "source": [
    "----"
   ]
  }
 ],
 "metadata": {
  "kernelspec": {
   "display_name": "Python 2",
   "language": "python",
   "name": "python2"
  },
  "language_info": {
   "codemirror_mode": {
    "name": "ipython",
    "version": 2
   },
   "file_extension": ".py",
   "mimetype": "text/x-python",
   "name": "python",
   "nbconvert_exporter": "python",
   "pygments_lexer": "ipython2",
   "version": "2.7.6"
  }
 },
 "nbformat": 4,
 "nbformat_minor": 0
}
