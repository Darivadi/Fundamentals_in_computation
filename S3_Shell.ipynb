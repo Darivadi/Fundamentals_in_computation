{
 "cells": [
  {
   "cell_type": "markdown",
   "metadata": {
    "slideshow": {
     "slide_type": "slide"
    }
   },
   "source": [
    "# Bash o el Intérprete de Comandos\n",
    "## Sistemas Operativos\n",
    "## Fundamentación en Computación\n",
    "### Instituto de Física\n",
    "### Facultad de Ciencias Exactas y Naturales, Universidad de Antioquia"
   ]
  },
  {
   "cell_type": "markdown",
   "metadata": {
    "slideshow": {
     "slide_type": "slide"
    }
   },
   "source": [
    "# Shell "
   ]
  },
  {
   "cell_type": "markdown",
   "metadata": {
    "slideshow": {
     "slide_type": "subslide"
    }
   },
   "source": [
    "<img src=\"./Shell.png\">\n",
    "\n",
    "- Es un programa que le facilita al usuario interaccionar con el núcleo del sistema:\n",
    " - administrar el sistema \n",
    " - programar\n",
    "  -crear todo tipo de contenidos de texto, etc... \n",
    "  \n",
    "- Para hacer todo eso el usuario debe utilizar una serie de comandos que le permiten manipular ficheros, procesos, etc...\n",
    " \n",
    "- Tipos: \n",
    "  - Entorno visual: Escritorio de Windows\n",
    "  - Terminal: csh, bash, tsh, ksh, etc..\n"
   ]
  },
  {
   "cell_type": "markdown",
   "metadata": {
    "collapsed": true,
    "slideshow": {
     "slide_type": "slide"
    }
   },
   "source": [
    "## Bash\n",
    "\n",
    "- Bash = Bourne again shell\n",
    "- Es un programa informático cuya función consiste en interpretar órdenes.\n",
    "- Fue escrito para el proyecto GNU y es el intérprete de comandos por defecto en la mayoría de las distribuciones de GNU con Linux.\n",
    "- Pueden usarse guiones (scripts) para ejecutar diferentes comandos \n",
    "\n",
    "\n",
    "<img src=\"./Shell1.png\">"
   ]
  },
  {
   "cell_type": "markdown",
   "metadata": {
    "slideshow": {
     "slide_type": "slide"
    }
   },
   "source": [
    "## Shell de Linux: La Terminal\n",
    "\n",
    "<img src=\"./Shell2.png\">"
   ]
  },
  {
   "cell_type": "markdown",
   "metadata": {
    "slideshow": {
     "slide_type": "slide"
    }
   },
   "source": [
    "# Guía de comandos básicos  y manejo de ficheros\n",
    "\n",
    "El comando más importante:\n",
    "<span style=\"color:red\"> [usuario`@`maquina]`$` man </span>\n",
    "\n",
    "ejecutar:\n",
    "$ man man\n",
    "\n",
    "- _Nota_: El prompt: indica que el shell está listo para recibir instrucciones.\n",
    "  - Linux: [usuario@maquina]$\n",
    "  - DOS: C:\\>\n"
   ]
  },
  {
   "cell_type": "markdown",
   "metadata": {
    "slideshow": {
     "slide_type": "subslide"
    }
   },
   "source": [
    "El sistema de ayuda: todos los comandos de Linux cuentan con página de ayuda (man page) que resumen funcionamiento y opciones. \n",
    "\n",
    "_Nota:_ el guión bajo _ significa espacio\n",
    "\n",
    "- Ayuda rápida: `$` comando_--help  \n",
    "- Ayuda completa: `$` man_comando\n",
    "- Una vez dentro de la ayuda use los siguientes caracteres y teclas para leer:\n",
    "- BARRA ESPACIADORA: baja una página\n",
    "- Flechas arriba/abajo: sube y baja en la ayuda\n",
    "- ESC+>: Va al final de la ayuda, ESC+<: Va al principio\n",
    "- Q: se sale de la ayuda"
   ]
  },
  {
   "cell_type": "markdown",
   "metadata": {
    "slideshow": {
     "slide_type": "subslide"
    }
   },
   "source": [
    "Desde la terminal se pueden ejecutar también aplicaciones completas:\n",
    "\n",
    "- Navegador de archivos: `$ nautilus`\n",
    "- Navegador de internet: `$ firefox`  o `$ google-chrome`\n",
    "- Editor de texto plano: `$ gedit`\n",
    "- Editor de imágenes: `$ gimp`\n",
    "\n",
    "Al invocar una aplicación que se abra en otra ventana se bloque la terminal hasta que termina la aplicación\n",
    "Para evitar este comportamiento se usa el carácter “&” (correr en el fondo):\n",
    "- `$` gedit_`&`   "
   ]
  },
  {
   "cell_type": "markdown",
   "metadata": {
    "slideshow": {
     "slide_type": "slide"
    }
   },
   "source": [
    "### Comando: “instrucciones abreviadas”\n",
    "\n",
    "- echo : Imprime en pantalla. Ejemplos: echo “hola”, echo 'otro mensaje'\n",
    "- pwd (=present working directory)\n",
    "- cd (=chage directory). comando para cambiarnos de directorio. Ejemplos: cd, cd /ruta/de/directorio, cd ../../directorio/\n",
    "- ls (=list). listar contenido de directorios. Ejemplos: ls, ls -l, ls -a, ls --color\n",
    "- cp (= copy). copiar ficheros/directorios. Ejemplos: cp -rfp directorio /tmp, cp archivo archivo_nuevo\n",
    "- rm (= remove). borrar ficheros/directorios. Ejemplos: rm -f fichero, rm -rf directorio, rm -i fichero\n",
    "- mkdir (= make dir.) crear directorios. Ejemplos: mkdir directorio\n",
    "- rmdir (= remove dir). borrar directorios, deben estar vacios. Ejemplos: rmdir directorio\n",
    "- mv (= move). renombrar o mover ficheros/directorios. Ejemplos: mv directorio directorio, mv fichero nuevo_nombre, mv fichero a_directorio\n",
    "- nano : editor de fichero muy simple. Vi, emacs, atom, sublime. Ejemplo: nano -w \n"
   ]
  },
  {
   "cell_type": "markdown",
   "metadata": {
    "slideshow": {
     "slide_type": "subslide"
    }
   },
   "source": [
    "```python\n",
    "pwd\n",
    "echo \"Hola mundo\"\n",
    "echo \"Estamos parados en\"; pwd\n",
    "mkdir Fundamentos_grupo_2\n",
    "cd Fundamentos_grupo_2\n",
    "pwd\n",
    "echo \"Ahora estamos en\"; pwd\n",
    "echo \"Vamos a regresar a la carpeta que contiene a Fundamentos_grupo_2\"\n",
    "cd ..\n",
    "cd Fundamentos_grupo_2\n",
    "mkdir Actividad1_bash; cd Actividad1_bash\n",
    "pwd\n",
    "echo \"Queremos salir a la carpeta que contiene a Fundamentos_grupo_2\"\n",
    "cd ./../../\n",
    "\n",
    "\n",
    "#Ejecutar nano para crear un archivo de texto\n",
    "echo \"Queremos volver a Fundamentos_grupo_2/Actividad1_bash/\"\n",
    "cd - #ó cd Fundamentos_grupo_2/Actividad1_bash/\n",
    "```"
   ]
  },
  {
   "cell_type": "markdown",
   "metadata": {
    "slideshow": {
     "slide_type": "subslide"
    }
   },
   "source": [
    "```python\n",
    "#Se crea un archivo con nano\n",
    "nano filename.txt\n",
    "#Se visualiza el archivo\n",
    "ls #ls -a; ls -l, ls -al, ls -alh\n",
    "#Renombrando el archivo con mv\n",
    "mv filename.txt archivo_de_texto.txt\n",
    "ls\n",
    "#moviendo el archivo a Fundamentos_grupo_2\n",
    "mv archivo_de_texto.txt ~/Downloads/Fundamentos_grupo_2 #o mv archivo_de_texto.txt ../\n",
    "ls\n",
    "cd ../\n",
    "ls\n",
    "ls Actividad1_bash/\n",
    "\n",
    "#Copiando el archivo a Actividad1_bash\n",
    "cp archivo_de_texto.txt Actividad1_bash/\n",
    "ls Actividad1_bash/\n",
    "#Tratando de eliminar la carpeta\n",
    "rm Actividad1_bash/\n",
    "#Entrando a la carpeta y eliminando archivo\n",
    "cd Actividad1_bash/; rm archivo_de_texto.txt\n",
    "cd ..\n",
    "rmdir Actividad1_bash/\n",
    "#Para eliminar carpetas con contenido (volver a copiar el archivo)\n",
    "rm -r Actividad1_bash/\n",
    "```"
   ]
  },
  {
   "cell_type": "markdown",
   "metadata": {
    "slideshow": {
     "slide_type": "subslide"
    }
   },
   "source": [
    "- who: muestra los usuarios de sistema que han iniciado una sesion. Ejemplos: who, w, who am i\n",
    "- clear: limpia la pantalla. Ctrl-L tiene el mismo efecto.\n",
    "- exit: termina la sesión del shell. Ctrl-D tiene el mismo efecto.\n",
    "- history -Descripción: muestra el historial de comandos introducidos por el usuario. Ejemplos: history | more\n",
    "- more : muestra el contenido de un fichero con pausas cada 25 lineas. Ejemplos: more fichero. \n",
    "  - f : adelante\t\t\t\n",
    "  - b: volver arriba\n",
    "  - v: iniciar vi en la linea que estamos\n",
    "  - Nota: estas opciones también sirven para el comando man\n",
    "- grep: filtra los contenidos de un fichero. Ejemplos: cat fichero | grep cadena, grep -il “cadena” directorio/\n",
    "- cat: muestra todo el contenido de un fichero sin pausa alguna. Ejemplos: cat fichero "
   ]
  },
  {
   "cell_type": "markdown",
   "metadata": {
    "slideshow": {
     "slide_type": "subslide"
    }
   },
   "source": [
    "- touch:crea un archivo en blanco. Ej.: touch imagen1.jpg\n",
    "- sort: ordena el contenido de un fichero.  Ejemplos: cat /etc/numeros | sort, ls | sort\n",
    "- tail: muestra el final (10 lineas) de un fichero. Ejemplos: tail -f /var/log/maillog, tail -100 /var/log/maillog | more\n",
    "- head: muestra la cabecera (10 lineas) de un fichero. Ejemplos: head fichero, head -100 /var/log/maillog | more\n",
    "- file: nos dice de que tipo es un fichero. Ejemplos: file fichero, file \\*\n",
    "- chmod: cambia los permisos de lectura/escritura/ejecucion (r/w/x) de ficheros/directorios. Ejemplos: chmod +r fichero, chmod +w directorio, chmod +rw directorio -R, chmod -r fichero chmod +x fichero : da permiso de ejecucion"
   ]
  },
  {
   "cell_type": "markdown",
   "metadata": {
    "slideshow": {
     "slide_type": "subslide"
    }
   },
   "source": [
    "```python\n",
    "#Creando archivos\n",
    "touch file1 file2...\n",
    "nano numeros_aleatorios.txt\n",
    "sort numeros_aleatorios.txt\n",
    "sort -n numeros_aleatorios.txt\n",
    "\n",
    "#Hacer un archivo poema con nano:\n",
    "nano poema.txt\n",
    "\n",
    "#Buscar la palabra (string o cadena de caracteres) \"donde\" en el archivo poema\n",
    "grep -in \"donde\" poema.txt \n",
    "\n",
    "#crear un script\n",
    "nano primer_script.sh\n",
    "```"
   ]
  },
  {
   "cell_type": "markdown",
   "metadata": {
    "slideshow": {
     "slide_type": "subslide"
    }
   },
   "source": [
    "Dentro del script colocar las siguientes instrucciones:\n",
    "\n",
    "```python\n",
    "echo \"Este es un primer script. Realiza tareas de manera 'automatica' \"\n",
    "echo \"En este momento nos encontramos en la siguiente ruta del sistema de archivos\"\n",
    "pwd\n",
    "echo \"Creando la carpeta: Mi_carpeta\"\n",
    "mkdir Mi_carpeta\n",
    "echo \"Ingresando a la carpeta creada\"\n",
    "cd Mi_carpeta\n",
    "echo \"Verificando que estamos en dicha carpeta\"\n",
    "pwd\n",
    "echo \"Creando algunos archivos\"\n",
    "touch file1.txt file2.txt file3.txt\n",
    "echo \"Qué tipo de archivo es file1?\"\n",
    "file file1.txt\n",
    "echo \"Que contiene esta carpeta?\"\n",
    "ls -alh\n",
    "echo \"Saliendo de Mi_carpeta\"\n",
    "cd ..\n",
    "```\n",
    "\n",
    "Haciendo el script ejecutable:\n",
    "```python\n",
    "bash primer_script.sh\n",
    "ls -lh primer_script.sh\n",
    "chmod u+x primer_script.sh\n",
    "ls -lh primer_script.sh\n",
    "```"
   ]
  },
  {
   "cell_type": "markdown",
   "metadata": {
    "slideshow": {
     "slide_type": "subslide"
    }
   },
   "source": [
    "- wc (=word count) calcula número de palabras y otros datos similares de un fichero. Ejemplos: wc fichero, wc -l fichero\n",
    "- ps : muestra  toda la informacion sobre procesos en ejecución. Ejemplos: ps, ps -axf, ps -A, ps -auxf \n",
    "- top o htop: muestra  toda la informacion sobre procesos \n",
    "- kill - Descripción: envía señales a procesos. La más común es la de matar el proceso. Ejemplo: kill -9 34 (la señal -9 es KILL y mata el proceso numero 34) "
   ]
  },
  {
   "cell_type": "markdown",
   "metadata": {
    "slideshow": {
     "slide_type": "slide"
    }
   },
   "source": [
    "### Pipelines y relacionados\n",
    "\n",
    "Conecta y combina diversos comandos de shell.\n",
    "- && operador “y”: ejecuta un primer comando y si es exitoso, el segundo. Ejemplo: echo “Esta es la lista de archivos” && ls\n",
    "\n",
    "- || operador “o” exclusivo:  ejecuta el primer comando y si no se satisface, el segundo.\n",
    "\n",
    "- | Operador “pipe” o “tubería”: Envía la impresión en pantalla como argumento del siguiente comando: ls | wc -l \n",
    "\n",
    "- \\> Operador de redirección: Envía la impresión en pantalla a algún archivo. Ejemplo: echo “hola bash” > hola.txt.\n",
    "\n",
    "- \\>\\> Operador “pipe append” : agrega la salida de pantalla al final del archivo. Ejemplo: echo ”linea 1” >> archivo.txt && echo ”linea 1” >> archivo.txt "
   ]
  },
  {
   "cell_type": "markdown",
   "metadata": {
    "slideshow": {
     "slide_type": "subslide"
    }
   },
   "source": [
    "```python\n",
    "#+++++ Uso de pipelines +++++\n",
    "#operador &&\n",
    "mkdir Carpeta_nueva && echo \"Se ha creado una carpeta\"\n",
    "#Notar que el orden es importante \n",
    "rm Carpeta_nueva && echo \"Se ha intentado borrar una carpeta\"\n",
    "echo \"Borremos una carpeta\" && rm Carpeta_nueva && echo \"Si se logro?\"\n",
    "ls\n",
    "\n",
    "\n",
    "#operador ||\n",
    "mkdir Carpeta_mas_nueva_aun || echo \"Se creado una carpeta\"\n",
    "echo \"Se creado una carpeta\" || mkdir Carpeta_mas_nueva_aun2\n",
    "\n",
    "rm Carpeta_mas_nueva_aun || echo \"Se ha borrado una carpeta?\"\n",
    "echo \"Se borrara una carpeta\" || rm Carpeta_mas_nueva_aun\n",
    "\n",
    "ls && (rm Carpeta_mas_nueva_aun || echo \"Se ha borrado una carpeta?\") \n",
    "ls && (rm Carpeta_mas_nueva_aun || echo \"Se ha borrado una carpeta?\")  && ls -l\n",
    "\n",
    "\n",
    "#redireccion\n",
    "head -n 3 poema.txt \n",
    "#quiero guardar las 3 primeras líneas y las últimas 3 en un archivo... veamos que sucede\n",
    "head -n 3 poema.txt > tres_primeras_lineas.txt\n",
    "#El archivo se sobreescribe!\n",
    "tail -n 3 poema.txt > tres_primeras_lineas.txt\n",
    "#Nuevamente\n",
    "head -n 3 poema.txt > tres_primeras_lineas.txt\n",
    "#Para que no se sobreescriba\n",
    "tail -n 3 poema.txt >> tres_primeras_lineas.txt\n",
    "```"
   ]
  },
  {
   "cell_type": "markdown",
   "metadata": {
    "slideshow": {
     "slide_type": "subslide"
    }
   },
   "source": [
    "```python\n",
    "#pipelines\n",
    "#cuenta el numero de archivos y directorios almacenados \n",
    "ls | wc -l \n",
    "#muestra el contenido en orden invertido\n",
    "ls | sort -r\n",
    "#muestra el contenido en orden aleatorio\n",
    "ls | sort -R\n",
    "#toma el contenido del directorio, lo pone en orden invertido y solamente muestra el primer elemento\n",
    "ls | sort -r | head -1\n",
    "#abrir firefox y buscar el ID con ps entubado con grep y cerrarlo\n",
    "firefox\n",
    "ps -aux | grep firefox\n",
    "kill -9 PID\n",
    "```"
   ]
  },
  {
   "cell_type": "markdown",
   "metadata": {
    "collapsed": true,
    "slideshow": {
     "slide_type": "slide"
    }
   },
   "source": [
    "## Actividad\n",
    "- Cree dos archivos que contengan los numeros del uno al 27 en una columna y el otro archivo que contengan de modo organizado las letras del alfabeto. \n",
    "- A partir de ellos cree un segundo archivo en el cual fusione ambos archivos en dos columnas y que los datos numéricos y alfabéticos aparezcan en orden aleatorio.\n",
    "- Escriba los comandos mínimos del shell para lograr esta tarea.\n",
    "\n",
    "Ayuda: use el comando paste"
   ]
  },
  {
   "cell_type": "markdown",
   "metadata": {
    "slideshow": {
     "slide_type": "slide"
    }
   },
   "source": [
    "## Comodines\n",
    "\n",
    "```python \n",
    "El shell reconoce una serie de caracteres comodín para poder referirse a un\n",
    "conjunto de ficheros o directorios\n",
    ". * : se corresponde con cualquier contenidos\n",
    ". ? : se corresponde con un único carácter\n",
    ". [] : se corresponde con un conjunto de caracteres\n",
    "\n",
    "ls\n",
    "programa.c test.c texto.txt ejemplo.pdf test.out\n",
    "ls *.c\n",
    "programa.c test.c\n",
    "ls *.?\n",
    "programa.c test.c test.o\n",
    "```"
   ]
  },
  {
   "cell_type": "markdown",
   "metadata": {
    "slideshow": {
     "slide_type": "subslide"
    }
   },
   "source": [
    "```python\n",
    "#Comodines\n",
    "touch file1.txt file2.txt file20.txt file35.txt file324.txt\n",
    "touch file10.mp3 file26.mp3 file205.png file5.png file4.png\n",
    "touch archivo1.txt archivo2.mp4 archivo78.jpg\n",
    "touch file900.c file500.py\n",
    "ls *.txt\n",
    "ls f*.txt\n",
    "ls f*\n",
    "ls a*\n",
    "ls file?.txt\n",
    "ls file??.txt\n",
    "ls file???.txt\n",
    "ls file*.?\n",
    "ls file*.??\n",
    "ls archivo?.txt\n",
    "ls archivo?.*\n",
    "#un error: ls archivo?.??\n",
    "\n",
    "touch music_file.mp3\n",
    "touch other_file.txt\n",
    "ls [m,p]* #Muestra todos los archivos que comienzan con m y con p seguidos de cualquier caracter\n",
    "ls [m-p]* #Muestra todos los archivos que comienzan con m hasta p seguidos de cualquier caracter\n",
    "ls [!m-p]* #Muestra todos los archivos que comienzan con letras diferentes a m hasta p seguidos de cualquier caracter\n",
    "```"
   ]
  },
  {
   "cell_type": "markdown",
   "metadata": {
    "slideshow": {
     "slide_type": "slide"
    }
   },
   "source": [
    "## Comprimir y Descomprimir archivos\n",
    "\n",
    "### Ficheros tar.gz\n",
    "\n",
    "<img src=\"./tar.png\">\n",
    "\n",
    "\n",
    "Para comprimir ficheros en formato tar.gz, se utiliza el siguiente comando:\n",
    "\n",
    "```python\n",
    "tar -czfv archivo.tar.gz ficheros\n",
    "```\n",
    "- -c : indica a tar que cree un archivo.\n",
    "- -z : indica que use el compresor gzip\n",
    "- -f : indica a tar que el siguiente argumento es el nombre del fichero.tar\n",
    "- -v : indica a tar que muestre lo que va empaquetando\n",
    "\n",
    "\n",
    "Para descomprimir ficheros con extensión tar.gz, se usa el siguiente comando:\n",
    "\n",
    "```python\n",
    "tar -xzvf archivo.tar.gz\n",
    "```\n",
    "- -x : le dice a tar que extraiga el contenido del fichero tar.gz\n",
    "- -z : le indica a tar que esta comprimido con gzip\n",
    "- -v : va mostrando el contenido del fichero\n",
    "- -f : le dice a tar que el siguiente argumento es el fichero a descomprimir.\n",
    "\n",
    "Para poder ver el contenido de un fichero comprimido en tar.gz, se usa el siguiente comando:\n",
    "```python \n",
    "tar -tzf archivo.tar.gz\n",
    "```"
   ]
  },
  {
   "cell_type": "markdown",
   "metadata": {
    "slideshow": {
     "slide_type": "slide"
    }
   },
   "source": [
    "## Actividad\n",
    "- Descargar el archivo moon.tar.gz de la carpeta de Referencias/Tarea_Bash del curso\n",
    "- Crear el directorio “Imagenes” en su computador\n",
    "- Mover el archivo “moon.tar.gz” en “Imagenes”\n",
    "- Desempacar el archivo “moon.tar.gz” en el directorio “Imagenes”\n"
   ]
  },
  {
   "cell_type": "markdown",
   "metadata": {
    "slideshow": {
     "slide_type": "slide"
    }
   },
   "source": [
    "## Manipulación de imágenes\n",
    "\n",
    " Convert:\n",
    "\n",
    "```python\n",
    "convert_<archivo>.ext1_<archivo>.ext2\n",
    "\n",
    "convert_-resize_<N>%_<archivo>.ext_<nuevo>.ext\n",
    "\n",
    "convert_<imagenes>_<animacion>.gif\n",
    "\n",
    "convert -resize 20% imagen.jpg imagen-small.jpg\n",
    "\n",
    "\n",
    "tar -xzvf moon.tar.gz\n",
    "convert moon*.jpg moon.gif\n",
    "eog moon.gif &\n",
    "```"
   ]
  },
  {
   "cell_type": "markdown",
   "metadata": {
    "collapsed": true,
    "slideshow": {
     "slide_type": "slide"
    }
   },
   "source": [
    "## Tarea 1\n",
    "En el siguiente enlace se encuentra la primer tarea del curso: https://goo.gl/TzLmAE"
   ]
  },
  {
   "cell_type": "code",
   "execution_count": null,
   "metadata": {
    "collapsed": true
   },
   "outputs": [],
   "source": []
  }
 ],
 "metadata": {
  "celltoolbar": "Slideshow",
  "kernelspec": {
   "display_name": "Bash",
   "language": "bash",
   "name": "bash"
  },
  "language_info": {
   "codemirror_mode": "shell",
   "file_extension": ".sh",
   "mimetype": "text/x-sh",
   "name": "bash"
  }
 },
 "nbformat": 4,
 "nbformat_minor": 2
}
