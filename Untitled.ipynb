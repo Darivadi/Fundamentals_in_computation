{
 "cells": [
  {
   "cell_type": "code",
   "execution_count": 1,
   "metadata": {
    "collapsed": false
   },
   "outputs": [
    {
     "name": "stdout",
     "output_type": "stream",
     "text": [
      "Ingrese posición inicial en metros: \n",
      "0.0\n",
      "Ingrese velocidad inicial en m/s: \n",
      "0.0\n",
      "Ingrese aceleración uniforme en m/s^25.0\n",
      "La distancia recorrida es de     950.62500000 m\n",
      "La velocidad final es es de      97.50000000 m/s\n",
      "40\n",
      "Para i = 0, t =    0.00000, y =    0.00000, v =    0.00000\n",
      "--------------------------------------------------\n",
      "Para i = 1, t =    0.50000, y =    0.62500, v =    2.50000\n",
      "--------------------------------------------------\n",
      "Para i = 2, t =    1.00000, y =    2.50000, v =    5.00000\n",
      "--------------------------------------------------\n",
      "Para i = 3, t =    1.50000, y =    5.62500, v =    7.50000\n",
      "--------------------------------------------------\n",
      "Para i = 4, t =    2.00000, y =   10.00000, v =   10.00000\n",
      "--------------------------------------------------\n",
      "Para i = 5, t =    2.50000, y =   15.62500, v =   12.50000\n",
      "--------------------------------------------------\n",
      "Para i = 6, t =    3.00000, y =   22.50000, v =   15.00000\n",
      "--------------------------------------------------\n",
      "Para i = 7, t =    3.50000, y =   30.62500, v =   17.50000\n",
      "--------------------------------------------------\n",
      "Para i = 8, t =    4.00000, y =   40.00000, v =   20.00000\n",
      "--------------------------------------------------\n",
      "Para i = 9, t =    4.50000, y =   50.62500, v =   22.50000\n",
      "--------------------------------------------------\n",
      "Para i = 10, t =    5.00000, y =   62.50000, v =   25.00000\n",
      "--------------------------------------------------\n",
      "Para i = 11, t =    5.50000, y =   75.62500, v =   27.50000\n",
      "--------------------------------------------------\n",
      "Para i = 12, t =    6.00000, y =   90.00000, v =   30.00000\n",
      "--------------------------------------------------\n",
      "Para i = 13, t =    6.50000, y =  105.62500, v =   32.50000\n",
      "--------------------------------------------------\n",
      "Para i = 14, t =    7.00000, y =  122.50000, v =   35.00000\n",
      "--------------------------------------------------\n",
      "Para i = 15, t =    7.50000, y =  140.62500, v =   37.50000\n",
      "--------------------------------------------------\n",
      "Para i = 16, t =    8.00000, y =  160.00000, v =   40.00000\n",
      "--------------------------------------------------\n",
      "Para i = 17, t =    8.50000, y =  180.62500, v =   42.50000\n",
      "--------------------------------------------------\n",
      "Para i = 18, t =    9.00000, y =  202.50000, v =   45.00000\n",
      "--------------------------------------------------\n",
      "Para i = 19, t =    9.50000, y =  225.62500, v =   47.50000\n",
      "--------------------------------------------------\n",
      "Para i = 20, t =   10.00000, y =  250.00000, v =   50.00000\n",
      "--------------------------------------------------\n",
      "Para i = 21, t =   10.50000, y =  275.62500, v =   52.50000\n",
      "--------------------------------------------------\n",
      "Para i = 22, t =   11.00000, y =  302.50000, v =   55.00000\n",
      "--------------------------------------------------\n",
      "Para i = 23, t =   11.50000, y =  330.62500, v =   57.50000\n",
      "--------------------------------------------------\n",
      "Para i = 24, t =   12.00000, y =  360.00000, v =   60.00000\n",
      "--------------------------------------------------\n",
      "Para i = 25, t =   12.50000, y =  390.62500, v =   62.50000\n",
      "--------------------------------------------------\n",
      "Para i = 26, t =   13.00000, y =  422.50000, v =   65.00000\n",
      "--------------------------------------------------\n",
      "Para i = 27, t =   13.50000, y =  455.62500, v =   67.50000\n",
      "--------------------------------------------------\n",
      "Para i = 28, t =   14.00000, y =  490.00000, v =   70.00000\n",
      "--------------------------------------------------\n",
      "Para i = 29, t =   14.50000, y =  525.62500, v =   72.50000\n",
      "--------------------------------------------------\n",
      "Para i = 30, t =   15.00000, y =  562.50000, v =   75.00000\n",
      "--------------------------------------------------\n",
      "Para i = 31, t =   15.50000, y =  600.62500, v =   77.50000\n",
      "--------------------------------------------------\n",
      "Para i = 32, t =   16.00000, y =  640.00000, v =   80.00000\n",
      "--------------------------------------------------\n",
      "Para i = 33, t =   16.50000, y =  680.62500, v =   82.50000\n",
      "--------------------------------------------------\n",
      "Para i = 34, t =   17.00000, y =  722.50000, v =   85.00000\n",
      "--------------------------------------------------\n",
      "Para i = 35, t =   17.50000, y =  765.62500, v =   87.50000\n",
      "--------------------------------------------------\n",
      "Para i = 36, t =   18.00000, y =  810.00000, v =   90.00000\n",
      "--------------------------------------------------\n",
      "Para i = 37, t =   18.50000, y =  855.62500, v =   92.50000\n",
      "--------------------------------------------------\n",
      "Para i = 38, t =   19.00000, y =  902.50000, v =   95.00000\n",
      "--------------------------------------------------\n",
      "Para i = 39, t =   19.50000, y =  950.62500, v =   97.50000\n",
      "--------------------------------------------------\n"
     ]
    }
   ],
   "source": [
    "y_ini = input(\"Ingrese posición inicial en metros: \\n\")\n",
    "#El signo de la velocidad inicial depende de si se lanza hacia arriba o hacia abajo.\n",
    "v_ini = input(\"Ingrese velocidad inicial en m/s: \\n\")\n",
    "a = input(\"Ingrese aceleración uniforme en m/s^2\")\n",
    "\n",
    "#Utilizaremos una lista para almacenar los valores calculados\n",
    "altura = [] #Definición de una lista vacía\n",
    "tiempo = []\n",
    "velocidad = []\n",
    "\n",
    "#a = 5.0\n",
    "t= 0\n",
    "y_i = y_ini\n",
    "y = y_i\n",
    "\n",
    "v_i = v_ini\n",
    "v = v_i\n",
    "delta_t = 0.5\n",
    "\n",
    "\n",
    "\n",
    "while t<20:\n",
    "    #Almacenando en la lista\n",
    "    tiempo.append(t)\n",
    "    altura.append(y)\n",
    "    velocidad.append(v)\n",
    "    \n",
    "    #Calculando con Euler\n",
    "    t = t + delta_t\n",
    "    v = v_i + a * delta_t\n",
    "    y = y_i + v_i * delta_t + 0.5 * a * delta_t**2\n",
    "    #y = y_i + v_i * delta_t\n",
    "    \n",
    "    #El nuevo valor de velocidad v y de altura y se convierten en el valor inicial de la siguiente iteración\n",
    "    v_i = v\n",
    "    y_i = y\n",
    "    \n",
    "print \"La distancia recorrida es de %16.8lf m\"%altura[-1]\n",
    "print \"La velocidad final es es de %16.8lf m/s\"%velocidad[-1]\n",
    "print len(altura)\n",
    "\n",
    "\n",
    "#Verificando los elementos almacenados en la lista\n",
    "#print \"Elementos almacenados\"\n",
    "for i in xrange(len(altura)):\n",
    "    print \"Para i = %d, t = %10.5f, y = %10.5f, v = %10.5f\"%(i, tiempo[i], altura[i], velocidad[i])\n",
    "    print 50*\"-\""
   ]
  },
  {
   "cell_type": "code",
   "execution_count": 11,
   "metadata": {
    "collapsed": false
   },
   "outputs": [
    {
     "name": "stdout",
     "output_type": "stream",
     "text": [
      "False\n"
     ]
    }
   ],
   "source": [
    "def num_primo(num):\n",
    "    if num < 2:     #Si el numero es menor que 2 no es primo, por lo tanto devolverá Falso\n",
    "        return False\n",
    "    for i in range(2, num):  # Un rango desde el dos hasta el número que elegido\n",
    "        if num % i == 0:    #Si el residuo da 0 no es primo, por lo tanto devuelve Falso\n",
    "            return False\n",
    "    return True    #De lo contrario devuelve Verdadero, así el valor asignado sería un primo.\n",
    "\n",
    "print num_primo(74)    #Para probarlo llamamos a la función con el valor que queramos."
   ]
  },
  {
   "cell_type": "code",
   "execution_count": 2,
   "metadata": {
    "collapsed": false
   },
   "outputs": [
    {
     "name": "stdout",
     "output_type": "stream",
     "text": [
      "1\n",
      "2\n",
      "3\n",
      "4\n",
      "5\n"
     ]
    }
   ],
   "source": [
    "for i in xrange(1,6):\n",
    "    print i"
   ]
  },
  {
   "cell_type": "code",
   "execution_count": null,
   "metadata": {
    "collapsed": true
   },
   "outputs": [],
   "source": []
  }
 ],
 "metadata": {
  "kernelspec": {
   "display_name": "Python 2",
   "language": "python",
   "name": "python2"
  },
  "language_info": {
   "codemirror_mode": {
    "name": "ipython",
    "version": 2
   },
   "file_extension": ".py",
   "mimetype": "text/x-python",
   "name": "python",
   "nbconvert_exporter": "python",
   "pygments_lexer": "ipython2",
   "version": "2.7.6"
  }
 },
 "nbformat": 4,
 "nbformat_minor": 0
}
