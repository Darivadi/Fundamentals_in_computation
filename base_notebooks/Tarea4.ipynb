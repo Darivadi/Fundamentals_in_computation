{
 "metadata": {
  "name": ""
 },
 "nbformat": 3,
 "nbformat_minor": 0,
 "worksheets": [
  {
   "cells": [
    {
     "cell_type": "heading",
     "level": 1,
     "metadata": {},
     "source": [
      "Tarea 4: programaci\u00f3n en python"
     ]
    },
    {
     "cell_type": "heading",
     "level": 3,
     "metadata": {},
     "source": [
      "Ejercicio 1"
     ]
    },
    {
     "cell_type": "markdown",
     "metadata": {},
     "source": [
      ">Elaborar un programa que calcule aproximadamente la longitud de una circunferencia de radio r (dado por el usuario) a partir del per\u00edmetro de un poligono regular de n lados (dado tambi\u00e9n por el usuario) inscrito en la circunferencia. \u00bf Cu\u00e1l es el valor de n para el cual el per\u00edmetro del pol\u00edgono difiere del per\u00edmetro real de la circunferencia en un 1%? "
     ]
    },
    {
     "cell_type": "heading",
     "level": 5,
     "metadata": {},
     "source": [
      "Sugerencias"
     ]
    },
    {
     "cell_type": "markdown",
     "metadata": {},
     "source": [
      "Tenga en cuenta que un poligono regular tiene lados iguales, ademas el angulo central $\\alpha$ que subtiende cada lado es igual para todos. Por lo tanto, si un poligono tiene N lados, se tiene que $\\alpha = \\dfrac{2\\pi}{N} \\: rad = \\dfrac{360}{N} \\: deg$"
     ]
    },
    {
     "cell_type": "markdown",
     "metadata": {},
     "source": [
      "<div style=\"float: left;\" markdown=\"1\">\n",
      "    <img src=\"https://upload.wikimedia.org/wikipedia/commons/thumb/a/ad/Polig_07a.svg/500px-Polig_07a.svg.png\"  width=180px>\n",
      "</div>\n",
      "\n",
      "<div style=\"float: left;\" markdown=\"1\">\n",
      "    <img src=\"https://upload.wikimedia.org/wikipedia/commons/thumb/b/b5/Polig_14b.svg/500px-Polig_14b.svg.png\"  width=180px>\n",
      "</div>\n",
      "\n",
      "<div style=\"float: right;\" markdown=\"1\">\n",
      "    <img src=\"https://upload.wikimedia.org/wikipedia/commons/thumb/e/ef/PoliReg_10.svg/500px-PoliReg_10.svg.png\"  width=180px>\n",
      "</div>"
     ]
    },
    {
     "cell_type": "markdown",
     "metadata": {},
     "source": [
      "---"
     ]
    },
    {
     "cell_type": "heading",
     "level": 3,
     "metadata": {},
     "source": [
      "Ejercicio 2"
     ]
    },
    {
     "cell_type": "markdown",
     "metadata": {},
     "source": [
      "> El chino Sun Tsu en el a\u00f1o 400 a.C. hall\u00f3 soluciones \u00e1ra el siguiente problema: encontrar un entero que al dividirlo por 3, el residuo sea 2; al dividirlo por 5, el residuo sea 3, y al dividirlo por 7, el residuo sea 2. escriba un programa que encuentre los n\u00fameros menores que 500, que satisfagan esas condiciones"
     ]
    },
    {
     "cell_type": "markdown",
     "metadata": {},
     "source": [
      "---"
     ]
    },
    {
     "cell_type": "heading",
     "level": 3,
     "metadata": {},
     "source": [
      "Ejercicio 3"
     ]
    },
    {
     "cell_type": "markdown",
     "metadata": {},
     "source": [
      ">Elaborar un programa que pida 3 n\u00fameros naturales peque\u00f1os $(n < 20)$ y encuentre la lista de todas las tripletas de n\u00fameros naturales que sumen lo mismo que los numeros entrados por el usuario"
     ]
    },
    {
     "cell_type": "markdown",
     "metadata": {},
     "source": [
      "---"
     ]
    },
    {
     "cell_type": "heading",
     "level": 3,
     "metadata": {},
     "source": [
      "Ejercicio 4"
     ]
    },
    {
     "cell_type": "markdown",
     "metadata": {},
     "source": [
      ">En componentes rectangulares, un vector en 3 dimensiones puede ser escrito de la siguiente forma:\n",
      "\n",
      ">\\begin{equation*}\n",
      "\\mathbf{A} = A_x\\mathbf{i} + A_y\\mathbf{j} + A_z\\mathbf{k}\n",
      "\\end{equation*}\n",
      "\n",
      ">donde $A_x,A_y,A_z$ son las componentes del vector. Con esta representaci\u00f3n, la suma  $( \\mathbf{C} = \\mathbf{A} +\\mathbf{B} )$ , la resta $(\\mathbf{C} = \\mathbf{A} -\\mathbf{B}) $, el producto escalar $( \\mathbf{A\\cdot B})$ y el producto vectorial $(\\mathbf{A\\times B})$ entre dos vectores queda dado de la siguiente forma:\n",
      "\n",
      ">\\begin{eqnarray*}\n",
      "  \\mathbf{C} &=&  (A_x \\pm B_x)\\mathbf{i} + (A_x \\pm B_x)\\mathbf{i} +(A_x \\pm B_x)\\mathbf{i} \\\\\n",
      " \\mathbf{A\\cdot B} &=&  A_xB_x +  A_yB_y + A_zB_z  \\\\\n",
      "\\mathbf{A\\times B} &=&  (A_yB_z-A_zB_y)\\mathbf{i} - (A_xB_z-A_zB_x)\\mathbf{j} + (A_xB_y-A_yB_x)\\mathbf{k} \\quad \n",
      "\\end{eqnarray*}\n",
      "\n",
      ">Escriba un programa en el que dada las componentes rectangulares de dos vectores $\\mathbf{A}$ y $\\mathbf{B}$ , calcule una de estas operaci\u00f3nes especificada por el usuario. El programa debe mostrar un menu donde se puedan escoger las siguientes operaciones: suma, resta, producto producto escalar,producto vectorial y *Todas las operaciones* y que permita al usuario ingresar las componentes de cada vector. Si el usuario escoge *Todas las operaciones*, el programa debe mostrar en pantalla el resultado de cada una de ellas."
     ]
    },
    {
     "cell_type": "markdown",
     "metadata": {},
     "source": [
      "---"
     ]
    },
    {
     "cell_type": "heading",
     "level": 3,
     "metadata": {},
     "source": [
      "Ejercicio 5"
     ]
    },
    {
     "cell_type": "markdown",
     "metadata": {},
     "source": [
      ">Averigue num\u00e9ricamente si la serie\n",
      "\n",
      ">$$ \\sum_{n=2}^{\\infty} \\frac{1}{n\\ln n}$$\n",
      "\n",
      ">converge o diverge (esto es, si tiende a un limite o si aumenta al a\u00f1adir m\u00e1s t\u00e9rminos a la serie). Representarlo graficamente"
     ]
    },
    {
     "cell_type": "markdown",
     "metadata": {},
     "source": [
      "---"
     ]
    },
    {
     "cell_type": "heading",
     "level": 4,
     "metadata": {},
     "source": [
      "Condiciones de entrega"
     ]
    },
    {
     "cell_type": "markdown",
     "metadata": {},
     "source": [
      " * Deben entregar un c\u00f3digo en python (un archivo *.py*) por cada ejercicio. El formato del nombre de cada punto debe ser: _Ejercicio#.py_. Por ejemplo **Ejercicio3.py**\n",
      " * En el _ejercicio 5_, el grafico generado debe guardarse en formato _png_. \n",
      " * En su cuenta de drive del curso, van a crear un folder con el nombre *Tarea4* y dentro de ella van a subir los programas (los archivos _.py_) y la imagen en formato png"
     ]
    },
    {
     "cell_type": "heading",
     "level": 4,
     "metadata": {},
     "source": [
      "Criterios de evaluaci\u00f3n"
     ]
    },
    {
     "cell_type": "markdown",
     "metadata": {},
     "source": [
      " * Cada c\u00f3digo debe estar bien comentado\n",
      " * Cada problema debe resolver completamente el problema planteado\n",
      " * Si deciden trabajar en grupo, por favor **eviten que sus codigos sean _exactamente_ igual al de sus compa\u00f1eros**. Si hay copias exactas de programas, la nota que obtengan se divide por la mitad."
     ]
    },
    {
     "cell_type": "markdown",
     "metadata": {},
     "source": [
      "---"
     ]
    },
    {
     "cell_type": "markdown",
     "metadata": {},
     "source": [
      "#####Fecha de Entrega:\n",
      "\n",
      "La fecha de entrega de la tarea es: ***Jueves 30 de Julio de 2015  a las 23:59***\n",
      "\n",
      "**Recomendacion**: Recuerden que tienen un material disponible que pueden consultar."
     ]
    },
    {
     "cell_type": "markdown",
     "metadata": {},
     "source": [
      "---"
     ]
    },
    {
     "cell_type": "code",
     "collapsed": false,
     "input": [
      "from IPython.core.display import HTML\n",
      "def css_styling():\n",
      "    styles = open('custom.css', 'r').read()\n",
      "    return HTML(styles)\n",
      "css_styling()"
     ],
     "language": "python",
     "metadata": {},
     "outputs": [
      {
       "html": [
        "<link href='http://fonts.googleapis.com/css?family=Fenix' rel='stylesheet' type='text/css'>\n",
        "<link href='http://fonts.googleapis.com/css?family=Alegreya+Sans:100,300,400,500,700,800,900,100italic,300italic,400italic,500italic,700italic,800italic,900italic' rel='stylesheet' type='text/css'>\n",
        "<link href='http://fonts.googleapis.com/css?family=Source+Code+Pro:300,400' rel='stylesheet' type='text/css'>\n",
        "<style>\n",
        "\n",
        "@font-face {\n",
        "    font-family: \"Computer Modern\";\n",
        "    src: url('http://mirrors.ctan.org/fonts/cm-unicode/fonts/otf/cmunss.otf');\n",
        "}\n",
        "\n",
        "\n",
        "#notebook_panel { /* main background */\n",
        "    background: rgb(245,245,245);\n",
        "}\n",
        "\n",
        "div.cell { /* set cell width */\n",
        "    width: 750px;\n",
        "}\n",
        "\n",
        "div #notebook { /* centre the content */\n",
        "    background: #fff; /* white background for content */\n",
        "    width: 1000px;\n",
        "    margin: auto;\n",
        "    padding-left: 0em;\n",
        "}\n",
        "\n",
        "#notebook li { /* More space between bullet points */\n",
        "margin-top:0.8em;\n",
        "}\n",
        "\n",
        "/* draw border around running cells */\n",
        "div.cell.border-box-sizing.code_cell.running { \n",
        "    border: 1px solid #111;\n",
        "}\n",
        "\n",
        "/* Put a solid color box around each cell and its output, visually linking them*/\n",
        "div.cell.code_cell {\n",
        "    background-color: rgb(256,256,256); \n",
        "    border-radius: 0px; \n",
        "    padding: 0.5em;\n",
        "    margin-left:1em;\n",
        "    margin-top: 1em;\n",
        "}\n",
        "\n",
        "\n",
        "div.text_cell_render{\n",
        "    font-family: 'Alegreya Sans' sans-serif;\n",
        "    line-height: 140%;\n",
        "    font-size: 125%;\n",
        "    font-weight: 400;\n",
        "    width:600px;\n",
        "    margin-left:auto;\n",
        "    margin-right:auto;\n",
        "}\n",
        "\n",
        "/* Formatting for header cells */\n",
        ".text_cell_render h1 {\n",
        "    font-family: 'Alegreya Sans', sans-serif;\n",
        "    font-style:regular;\n",
        "    font-weight: 200;    \n",
        "    font-size: 50pt;\n",
        "    line-height: 100%;\n",
        "    color:#CD2305;\n",
        "    margin-bottom: 0.5em;\n",
        "    margin-top: 0.5em;\n",
        "    display: block;\n",
        "}\t\n",
        ".text_cell_render h2 {\n",
        "    font-family: 'Fenix', serif;\n",
        "    font-size: 22pt;\n",
        "    line-height: 100%;\n",
        "    margin-bottom: 0.1em;\n",
        "    margin-top: 0.3em;\n",
        "    display: block;\n",
        "}\t\n",
        "\n",
        ".text_cell_render h3 {\n",
        "    font-family: 'Fenix', serif;\n",
        "    margin-top:12px;\n",
        "\tfont-size: 16pt;\n",
        "    margin-bottom: 3px;\n",
        "    font-style: regular;\n",
        "}\n",
        "\n",
        ".text_cell_render h4 {    /*Use this for captions*/\n",
        "    font-family: 'Fenix', serif;\n",
        "    font-size: 16pt;\n",
        "    text-align: left;\n",
        "    color:#CD8405;\n",
        "    margin-top: 0em;\n",
        "    margin-bottom: 2em;\n",
        "    font-style: regular;\n",
        "}\n",
        "\n",
        ".text_cell_render h5 {  /*Use this for small titles*/\n",
        "    font-family: 'Alegreya Sans', sans-serif;\n",
        "    font-weight: 300;\n",
        "    font-size: 16pt;\n",
        "    color: #CD2305;\n",
        "    font-style: italic;\n",
        "    margin-bottom: .5em;\n",
        "    margin-top: 0.5em;\n",
        "    display: block;\n",
        "}\n",
        "\n",
        ".text_cell_render h6 { /*use this for copyright note*/\n",
        "    font-family: 'Source Code Pro', sans-serif;\n",
        "    font-weight: 300;\n",
        "    font-size: 9pt;\n",
        "    line-height: 100%;\n",
        "    color: grey;\n",
        "    margin-bottom: 1px;\n",
        "    margin-top: 1px;\n",
        "}\n",
        "\n",
        "    .CodeMirror{\n",
        "            font-family: \"Source Code Pro\";\n",
        "\t\t\tfont-size: 90%;\n",
        "    }\n",
        "/*    .prompt{\n",
        "        display: None;\n",
        "    }*/\n",
        "\t\n",
        "    \n",
        "    .warning{\n",
        "        color: rgb( 240, 20, 20 )\n",
        "        }  \n",
        "</style>\n",
        "<script>\n",
        "    MathJax.Hub.Config({\n",
        "                        TeX: {\n",
        "                           extensions: [\"AMSmath.js\"], \n",
        "                           equationNumbers: { autoNumber: \"AMS\", useLabelIds: true}\n",
        "\t\t\t   \n",
        "                           },\n",
        "                tex2jax: {\n",
        "                    inlineMath: [ ['$','$'], [\"\\\\(\",\"\\\\)\"] ],\n",
        "                    displayMath: [ ['$$','$$'], [\"\\\\[\",\"\\\\]\"] ]\n",
        "                },\n",
        "                displayAlign: 'center', // Change this to 'center' to center equations.\n",
        "                \"HTML-CSS\": {\n",
        "\t\t    scale: 90,\n",
        "                    styles: {'.MathJax_Display': {\"margin\": 4}}\n",
        "                }\n",
        "        });\n",
        "</script>\n"
       ],
       "metadata": {},
       "output_type": "pyout",
       "prompt_number": 2,
       "text": [
        "<IPython.core.display.HTML at 0x7f7c10421cd0>"
       ]
      }
     ],
     "prompt_number": 2
    }
   ],
   "metadata": {}
  }
 ]
}