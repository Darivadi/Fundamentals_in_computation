{
 "metadata": {
  "name": ""
 },
 "nbformat": 3,
 "nbformat_minor": 0,
 "worksheets": [
  {
   "cells": [
    {
     "cell_type": "heading",
     "level": 1,
     "metadata": {},
     "source": [
      "Tarea 4: programaci\u00f3n en python"
     ]
    },
    {
     "cell_type": "heading",
     "level": 4,
     "metadata": {},
     "source": [
      "Integraci\u00f3n num\u00e9rica"
     ]
    },
    {
     "cell_type": "heading",
     "level": 5,
     "metadata": {},
     "source": [
      "Introducci\u00f3n"
     ]
    },
    {
     "cell_type": "markdown",
     "metadata": {},
     "source": [
      "La integral tiene aplicaciones en muchas areas como la estadistica, la economia, las ciencias e ingenieria, puesto que nos permite calcular cantidades de inter\u00e9s como la fuerza que hace el agua sobre una represa, promedios de variables aleatorias continuas, masas, probabilidades entre muchas otras cantidades. \n",
      "\n",
      "La integral nos permite calcula una cantidad, dividiendola en partes muy peque\u00f1as y sumando despues la contribuci\u00f3n de cada trozo. Por ejemplo, imagine que quiere calcular el volumen de un cuerpo deforme a partir de la densidad; una forma \"practica\" de hacerlo es coger el cuerpo y cortarlo en rebanadas y determinar el volumen de cada rebanada. Al final el volumen total del cuerpo va a ser la suma de cada volumen individual\n",
      "\n",
      "$\\\\$\n",
      "\n",
      "<center><img src=\"https://upload.wikimedia.org/wikipedia/en/thumb/d/d1/Shell_integral_undergraph.png/300px-Shell_integral_undergraph.png\"></center>"
     ]
    },
    {
     "cell_type": "markdown",
     "metadata": {},
     "source": [
      "Cuando es una funcion de una sola variable $(f(x))$, la interpretaci\u00f3n geometrica de una integral *definida* es el area bajo la curva $f(x)$ vs $x$. En este caso, se podria calcular el area bajo la curva (note que la integral permite calcular el area de superficies irregulares) dividiendo la zona en peque\u00f1os rectangulos, y calcular el area de cada rectangulo para poder tener el area total. Entre mas rectangulos se tenga, mas preciso va a ser el valor del area.\n",
      "\n",
      "<center><img src=\"https://upload.wikimedia.org/wikipedia/commons/thumb/0/0a/Riemann_Integration_and_Darboux_Upper_Sums.gif/300px-Riemann_Integration_and_Darboux_Upper_Sums.gif\"></center>\n",
      "\n",
      "Hay muchas cantidades fisicas que se relacionan con otras a trav\u00e9s de una integral y muchas veces estas integrales no se pueden resolver de forma anal\u00edtica. Por esta razon se recurre a m\u00e9todos num\u00e9ricos que permitan obtener el valor de ellas. Este m\u00e9todo se conoce como el *m\u00e9todo de los rectangulos*"
     ]
    },
    {
     "cell_type": "markdown",
     "metadata": {},
     "source": [
      "Un m\u00e9todo un poco mas preciso que el anterior y tambi\u00e9n utilizado, es la conocida *Regla del Trapezio*, el cual no usa rectangulos sino trapecios  para aproximar el area debajo de la curva:\n",
      "\n",
      "\n",
      "\n",
      "<center><img src=\"https://upload.wikimedia.org/wikipedia/commons/thumb/d/dd/Trapezoidal_rule_illustration.png/316px-Trapezoidal_rule_illustration.png\"  width=250px>\n",
      "</center>\n",
      "\n",
      "<center><img src=\"https://upload.wikimedia.org/wikipedia/en/a/ab/Trapezium.gif\"  width=400px>\n",
      "</center>\n"
     ]
    },
    {
     "cell_type": "markdown",
     "metadata": {},
     "source": [
      "Para resolver una integral num\u00e9rica por medio de la regla de los trapecios, se usa la siguiente definicion del m\u00e9todo:\n",
      "\n",
      "\n",
      "para un dominio (valores de x) discretizado en  N trapecios igualmente espaciados, o N+1 puntos $a = x1 < x2 < ... < x_{N+1} = b$, donde la separacion entre cada valor de $x$ es  $h=(b-a)/N$ (puede verlo como el ancho de caga trapecio en la figura de arriba), la integral puede ser aproximada como:\n",
      "\n",
      "\\begin{eqnarray*}\n",
      "\\int_a^b f(x)dx &=& \\frac{h}{2}\\sum_{k=1}^N \\left( f(x_{k+1})+f(k) \\right)\\\\\n",
      "                &=& \\frac{b-a}{2N}(f(x_1)+2f(x_2)+2f(x_3)+\\cdots + 2f(x_N) + f(x_{N+1}))\n",
      "\\end{eqnarray*}\n",
      "\n",
      "NOTA: Compare la anterior expresi\u00f3n con la f\u00f3rmula del area de un trapecio (Ver imagen debajo)\n",
      "\n",
      "<center><img\n",
      "src=\"https://upload.wikimedia.org/wikipedia/commons/0/05/Trapezoidal_rule_illustration_small.svg\" width=400px>\n",
      "</center>\n"
     ]
    },
    {
     "cell_type": "heading",
     "level": 5,
     "metadata": {},
     "source": [
      "\n",
      "$$\\\\$$\n",
      "Items de la tarea:"
     ]
    },
    {
     "cell_type": "markdown",
     "metadata": {},
     "source": [
      "* Hacer una rutina en python, en la cual implemente el m\u00e9todo de los trapecios expuesto anteriormente.\n",
      "\n",
      "    Note que el metodo consiste en una suma de n terminos donde los t\u00e9rminos est\u00e1n multiplicados por 2, excepto los valores extremos.\n",
      "    \n",
      "    Para verificar si su rutina funciona correctamente, pruebela resolviendo la integral definida $\\int_0^5 \\sqrt{x}$. Puede verificar el resultado [aqui!!](http://www.wolframalpha.com/input/?i=integral%5Bsqrt%28x%29%2C%7Bx%2C0%2C5%7D%5D)\n",
      "    \n",
      "    \n",
      "    \n",
      "En fisica moderna, cuando se quiere calcular la energia electromagnetica de una cavidad que contiene fotones en su interior, aparece una integral de la siguiente forma:\n",
      "\n",
      "   $$ \\int_0^{\\infty}\\frac{x^3}{e^x-1}dx.$$\n",
      "\n",
      "   Solucionando la anterior ecuaci\u00f3n, por medio del uso de series, se llega a lo siguiente:\n",
      "   \n",
      "   $$ \\int_0^{\\infty}\\frac{x^3}{e^x-1}dx = 6\\sum_{n=0}^{\\infty}\\frac{1}{(n+1)^4} = \\frac{\\pi^4}{15}$$\n",
      " \n",
      "* Grafique la funcion $x^3/(e^x-1)$ en el intervalo x:[0,15].  Usted debe obtener un gr\u00e1fico como el siguiente\n",
      "  \n",
      "  <img src=\"files/images/plot.png\">\n",
      "  \n",
      "* Haciendo uso de la rutina de integraci\u00f3n hecha en el paso anterior, calcule el valor de la integral y compare con el valor real. "
     ]
    },
    {
     "cell_type": "markdown",
     "metadata": {},
     "source": [
      "***Anotaci\u00f3n:*** Para el caso en el que el limite superior es \"infinito\" $(\\infty)$, ud puede asignarle un valor a b finito, pero lo suficientemente grande. \u00bfQue tan grande cree ud que debe ser el valor de $b$ para este problema?"
     ]
    },
    {
     "cell_type": "heading",
     "level": 5,
     "metadata": {},
     "source": [
      "Condiciones de entrega"
     ]
    },
    {
     "cell_type": "markdown",
     "metadata": {},
     "source": [
      "- Debe entregar un codigo en python (un archivo *.py*) donde est\u00e9 la rutina y el resto del codigo\n",
      "- El programa al momento de ejecutarse debe mostrar el valor de la integral del paso uno, con la cual se hace el test de la rutina del *metodo de los trapecios* y calcular el error respecto al valor real\n",
      "- El programa debe guardar el grafico en un arhivo *.png* y debe tener etiquetas como el mostrado en la muestra (Etiquetas en $x$ y $y$)\n",
      "- El programa debe mostrar el valor de la integral del tercer numeral y el error respecto al valor teorico\n",
      "- En su cuenta de drive del curso, van a crear un folder con el nombre *Tarea4* y dentro de ella van a subir el programa (el archivo .py) y la imagen en formato png\n",
      "\n",
      "\n",
      "La fecha de entrega de la tarea es: ***Viernes 31 de Julio de 2015  a las 23:59***\n",
      "\n",
      "**Recomendacion**: Recuerden que tienen un material disponible que pueden consultar."
     ]
    },
    {
     "cell_type": "heading",
     "level": 5,
     "metadata": {},
     "source": [
      "Criterios de evaluaci\u00f3n"
     ]
    },
    {
     "cell_type": "markdown",
     "metadata": {},
     "source": [
      "* La regla de los trapecios es muy conocida, lo que es muy probable que el programa se encuentre en internet. No hay problema con que ustedes consulten programas ya hechos, pero por favor **no hacer copias exactas de codigos encontrados en intertet**\n",
      "\n",
      "* Si deciden trabajar en grupo, por favor **eviten que sus codigos sean _exactamente_ igual al de sus compa\u00f1eros**\n",
      "\n",
      "Si incurren en alguna de ellas, causar\u00e1 una disminuci\u00f3n en su nota."
     ]
    },
    {
     "cell_type": "code",
     "collapsed": false,
     "input": [
      "from IPython.core.display import HTML\n",
      "def css_styling():\n",
      "    styles = open('custom.css', 'r').read()\n",
      "    return HTML(styles)\n",
      "css_styling()"
     ],
     "language": "python",
     "metadata": {},
     "outputs": [
      {
       "html": [
        "<link href='http://fonts.googleapis.com/css?family=Fenix' rel='stylesheet' type='text/css'>\n",
        "<link href='http://fonts.googleapis.com/css?family=Alegreya+Sans:100,300,400,500,700,800,900,100italic,300italic,400italic,500italic,700italic,800italic,900italic' rel='stylesheet' type='text/css'>\n",
        "<link href='http://fonts.googleapis.com/css?family=Source+Code+Pro:300,400' rel='stylesheet' type='text/css'>\n",
        "<style>\n",
        "\n",
        "@font-face {\n",
        "    font-family: \"Computer Modern\";\n",
        "    src: url('http://mirrors.ctan.org/fonts/cm-unicode/fonts/otf/cmunss.otf');\n",
        "}\n",
        "\n",
        "\n",
        "#notebook_panel { /* main background */\n",
        "    background: rgb(245,245,245);\n",
        "}\n",
        "\n",
        "div.cell { /* set cell width */\n",
        "    width: 750px;\n",
        "}\n",
        "\n",
        "div #notebook { /* centre the content */\n",
        "    background: #fff; /* white background for content */\n",
        "    width: 1000px;\n",
        "    margin: auto;\n",
        "    padding-left: 0em;\n",
        "}\n",
        "\n",
        "#notebook li { /* More space between bullet points */\n",
        "margin-top:0.8em;\n",
        "}\n",
        "\n",
        "/* draw border around running cells */\n",
        "div.cell.border-box-sizing.code_cell.running { \n",
        "    border: 1px solid #111;\n",
        "}\n",
        "\n",
        "/* Put a solid color box around each cell and its output, visually linking them*/\n",
        "div.cell.code_cell {\n",
        "    background-color: rgb(256,256,256); \n",
        "    border-radius: 0px; \n",
        "    padding: 0.5em;\n",
        "    margin-left:1em;\n",
        "    margin-top: 1em;\n",
        "}\n",
        "\n",
        "\n",
        "div.text_cell_render{\n",
        "    font-family: 'Alegreya Sans' sans-serif;\n",
        "    line-height: 140%;\n",
        "    font-size: 125%;\n",
        "    font-weight: 400;\n",
        "    width:600px;\n",
        "    margin-left:auto;\n",
        "    margin-right:auto;\n",
        "}\n",
        "\n",
        "/* Formatting for header cells */\n",
        ".text_cell_render h1 {\n",
        "    font-family: 'Alegreya Sans', sans-serif;\n",
        "    font-style:regular;\n",
        "    font-weight: 200;    \n",
        "    font-size: 50pt;\n",
        "    line-height: 100%;\n",
        "    color:#CD2305;\n",
        "    margin-bottom: 0.5em;\n",
        "    margin-top: 0.5em;\n",
        "    display: block;\n",
        "}\t\n",
        ".text_cell_render h2 {\n",
        "    font-family: 'Fenix', serif;\n",
        "    font-size: 22pt;\n",
        "    line-height: 100%;\n",
        "    margin-bottom: 0.1em;\n",
        "    margin-top: 0.3em;\n",
        "    display: block;\n",
        "}\t\n",
        "\n",
        ".text_cell_render h3 {\n",
        "    font-family: 'Fenix', serif;\n",
        "    margin-top:12px;\n",
        "\tfont-size: 16pt;\n",
        "    margin-bottom: 3px;\n",
        "    font-style: regular;\n",
        "}\n",
        "\n",
        ".text_cell_render h4 {    /*Use this for captions*/\n",
        "    font-family: 'Fenix', serif;\n",
        "    font-size: 16pt;\n",
        "    text-align: left;\n",
        "    color:#CD8405;\n",
        "    margin-top: 0em;\n",
        "    margin-bottom: 2em;\n",
        "    font-style: regular;\n",
        "}\n",
        "\n",
        ".text_cell_render h5 {  /*Use this for small titles*/\n",
        "    font-family: 'Alegreya Sans', sans-serif;\n",
        "    font-weight: 300;\n",
        "    font-size: 16pt;\n",
        "    color: #CD2305;\n",
        "    font-style: italic;\n",
        "    margin-bottom: .5em;\n",
        "    margin-top: 0.5em;\n",
        "    display: block;\n",
        "}\n",
        "\n",
        ".text_cell_render h6 { /*use this for copyright note*/\n",
        "    font-family: 'Source Code Pro', sans-serif;\n",
        "    font-weight: 300;\n",
        "    font-size: 9pt;\n",
        "    line-height: 100%;\n",
        "    color: grey;\n",
        "    margin-bottom: 1px;\n",
        "    margin-top: 1px;\n",
        "}\n",
        "\n",
        "    .CodeMirror{\n",
        "            font-family: \"Source Code Pro\";\n",
        "\t\t\tfont-size: 90%;\n",
        "    }\n",
        "/*    .prompt{\n",
        "        display: None;\n",
        "    }*/\n",
        "\t\n",
        "    \n",
        "    .warning{\n",
        "        color: rgb( 240, 20, 20 )\n",
        "        }  \n",
        "</style>\n",
        "<script>\n",
        "    MathJax.Hub.Config({\n",
        "                        TeX: {\n",
        "                           extensions: [\"AMSmath.js\"], \n",
        "                           equationNumbers: { autoNumber: \"AMS\", useLabelIds: true}\n",
        "\t\t\t   \n",
        "                           },\n",
        "                tex2jax: {\n",
        "                    inlineMath: [ ['$','$'], [\"\\\\(\",\"\\\\)\"] ],\n",
        "                    displayMath: [ ['$$','$$'], [\"\\\\[\",\"\\\\]\"] ]\n",
        "                },\n",
        "                displayAlign: 'center', // Change this to 'center' to center equations.\n",
        "                \"HTML-CSS\": {\n",
        "\t\t    scale: 80,\n",
        "                    styles: {'.MathJax_Display': {\"margin\": 4}}\n",
        "                }\n",
        "        });\n",
        "</script>\n"
       ],
       "metadata": {},
       "output_type": "pyout",
       "prompt_number": 28,
       "text": [
        "<IPython.core.display.HTML at 0x7f4ca81ac810>"
       ]
      }
     ],
     "prompt_number": 28
    }
   ],
   "metadata": {}
  }
 ]
}