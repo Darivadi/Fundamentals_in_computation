{
 "metadata": {
  "name": ""
 },
 "nbformat": 3,
 "nbformat_minor": 0,
 "worksheets": [
  {
   "cells": [
    {
     "cell_type": "heading",
     "level": 1,
     "metadata": {},
     "source": [
      "Algunos temas para el proyecto final"
     ]
    },
    {
     "cell_type": "markdown",
     "metadata": {},
     "source": [
      "El proyecto final consistir\u00e1 de resolver un problema elegido por el estudiante, en donde mostrar\u00e1 lo aprendido en el curso. En principio cada proyecto debe ser distinto, pero si se presenta el caso en el que hayan temas repetidos, cada estudiante debe mostrar que lo realiz\u00f3 el mismo, para evitar copias o plagios."
     ]
    },
    {
     "cell_type": "markdown",
     "metadata": {},
     "source": [
      "El problema puede ser resuelto en cualquiera de los dos lenguajes aprendidos en el curso (C o Python), pero preferiblemente en python por facilidad. Aqui se mostraran algunas opciones o temas en los que podrian hacer el proyecto final. Si tiene algun problema en particular que quiera resolver, por favor hacermelo saber, para asi poderles decir si es viable o no."
     ]
    },
    {
     "cell_type": "heading",
     "level": 3,
     "metadata": {},
     "source": [
      "1. Integraci\u00f3n con el m\u00e9todo montecarlo\n"
     ]
    },
    {
     "cell_type": "markdown",
     "metadata": {},
     "source": [
      "[Descripcion del metodo](https://www.uclm.es/profesorado/licesio/Docencia/mcoi/Tema4_guion.pdf)\n",
      "\n",
      "[Otro documento](http://www.ugr.es/~jillana/Docencia/FM/mc.pdf)\n",
      "\n",
      "[Guia](https://github.com/curibe/test/blob/master/docs/Montecarlo.pdf). La idea de este problema es resolver la integral dada en el documento \"guia\" usando el m\u00e9todo de Monte-Carlo. El programa debe graficar la funci\u00f3n y los puntos generados aleatoriamente."
     ]
    },
    {
     "cell_type": "heading",
     "level": 3,
     "metadata": {},
     "source": [
      "2. Ajuste lineal de datos experimentales"
     ]
    },
    {
     "cell_type": "markdown",
     "metadata": {},
     "source": [
      "[Descripci\u00f3n del m\u00e9todo](http://www.sc.ehu.es/sbweb/fisica/cinematica/regresion/regresion.htm)\n",
      "\n",
      "[Otra descripcion](http://www.fisicarecreativa.com/taller/guias/cap5_cuadrados_minimos_v1.pdf)\n",
      "\n",
      "[Otro documento](http://plasmalab.aero.upm.es/~practicasfisica/LabFisicaII-Files/Ayudas/MC/MinimosCuadrados.pdf)\n",
      "\n",
      "La idea de este problema es crear un programa en el que dado un conjunto de datos experimentales, este le haga un ajuste lineal a los datos. El programa debe mostrar en el grafico los valores de $a$, $b$ y $R^2$\n",
      "\n",
      "<img src=\"files/images/Cinta3.jpg\">\n",
      "\n",
      "Los datos a usar ([datos](https://raw.githubusercontent.com/curibe/test/master/Datos/DatosExperimentales.dat)) son medidas del desplazamiento de una particula cuando esta en caida libre (ver figura). Los datos contiene los valores de $\\Delta x$ o la separacion entre punto y punto (Recuerde que estos datos son desplazamientos, no posiciones ). Cada punto fue marcado cuando $t=i\\Delta t$ donde $i=1,2,..,N$ (Los datos de la primera columna de la tabla corresponden a los valores de $i$) y $\\Delta t = 0.025s$\n",
      "\n",
      "Debe graficar la curva posici\u00f3n vs tiempo, velocidad vs tiempo y aceleracion vs tiempo. En el grafico velocidad vs tiempo debe hacer el ajuste lineal de los datos, de tal forma que la pendiente ser\u00e1 el valor de la aceleraci\u00f3n de gravedad obtenida experimentalmente."
     ]
    },
    {
     "cell_type": "heading",
     "level": 3,
     "metadata": {},
     "source": [
      "3. Construcci\u00f3n de un histograma"
     ]
    },
    {
     "cell_type": "markdown",
     "metadata": {},
     "source": [
      "[Descripci\u00f3n](http://myfaculty.metro.inter.edu/jahumada/amp/histogramas/tabla_frecuencias_p3.htm)\n",
      "\n",
      "[Otro ejemplo](http://www.conevyt.org.mx/colaboracion/colabora/objetivos/libros_pdf/sma3_u4lecc19.pdf)\n",
      "\n",
      "La idea con este problema es hacer un programa que a partir de un conjunto de datos, construya un histograma de frecuencias. El archivo [particles_bulbe.dat](https://raw.githubusercontent.com/curibe/test/master/Datos/Particles-bulge.dat) contiene las coordenadas cartesianas $x,y,z$ de las estrellas pertenecientes al bulbo de una galaxia. La idea es que grafique un histograma para cada coordenada ($x,y,z$) y determine cual es la zona en la que se concentran la mayoria de las estrellas. Puede calcular la media y la mediana de los datos, y comparar el resultado obtenido con la gr\u00e1fica ([Medidas de tendencia central](https://es.wikipedia.org/wiki/Medidas_de_tendencia_central)). Depu\u00e9s construya otro histograma, pero ya no con las coordenadas $x,y,z$ sino con la distancia al centro de la galaxia. Asi puede mirar la concentracion de estrellas de acuerdo al radio o distancia al centro y asi hacer un estimativo del radio de la galaxia."
     ]
    },
    {
     "cell_type": "heading",
     "level": 3,
     "metadata": {},
     "source": [
      "4. Polinomios de Legendre o Sistema Masa-Resorte con fricci\u00f3n"
     ]
    },
    {
     "cell_type": "markdown",
     "metadata": {},
     "source": [
      "[Enunciado](https://github.com/curibe/test/blob/master/docs/Enunciados.pdf). En este documento encontrar\u00e1 la descripcion de los dos problemas. Puede escoger alguno de los dos"
     ]
    },
    {
     "cell_type": "heading",
     "level": 3,
     "metadata": {},
     "source": [
      "5. Problema de persecuci\u00f3n"
     ]
    },
    {
     "cell_type": "markdown",
     "metadata": {},
     "source": [
      "[Descripci\u00f3n](http://www.mat.ucm.es/catedramdeguzman/modelizaciones/proyectos/proyecto2/curvas_pers_espir_equian/solucion_4_objetos.htm)\n",
      "\n",
      "[Otro ejemplo](http://education.ti.com/~/media/90621794E5884F7BA6723E4FA66B0172)"
     ]
    },
    {
     "cell_type": "heading",
     "level": 3,
     "metadata": {},
     "source": [
      "6. Interpolaci\u00f3n Lineal"
     ]
    },
    {
     "cell_type": "markdown",
     "metadata": {},
     "source": [
      "[Descripcion](https://es.wikipedia.org/wiki/Interpolaci%C3%B3n)\n",
      "\n",
      "La idea de este problema es que a partir de un conjunto de datos ($x_i,y_i$), ud pueda obtener  el valor de un punto cualquiera (que no esta en la tabla de datos) haciendo uso del m\u00e9todo de interpolaci\u00f3n lineal. El programa debe calcular el valor de cualquier $y$ dado un $x$. El programa tambien debe construir la grafica haciendo uso de varios puntos interpolados. El archivo [data2.dat](https://raw.githubusercontent.com/curibe/test/master/Datos/data2.dat) contiene los datos del interior de un planeta y que estan especificados al principio de la tabla. La idea es que para un valor de radio, no incluido en la tabla, ud pueda calcular la densidad, la masa, la presion y la temperatura para ese valor del radio. Al final, el programa debe graficar cada una de estas cantidades vs el radio."
     ]
    },
    {
     "cell_type": "heading",
     "level": 3,
     "metadata": {},
     "source": [
      "7. Problema de los barcos acorazados"
     ]
    },
    {
     "cell_type": "markdown",
     "metadata": {},
     "source": [
      "<div style=\"float: left\" markdown=\"1\">\n",
      "    <img src=\"files/images/Acorazados2.png\"  width=800px>\n",
      "</div>\n",
      "\n",
      "<img src=\"files/images/Problema.png\" width=800px>"
     ]
    },
    {
     "cell_type": "heading",
     "level": 3,
     "metadata": {},
     "source": [
      "8. Poblema con tiro parab\u00f3lico"
     ]
    },
    {
     "cell_type": "markdown",
     "metadata": {},
     "source": [
      "<div style=\"float: left\" markdown=\"1\">\n",
      "    <img src=\"files/images/ImagenParabolico.png\"  width=800px>\n",
      "</div>\n",
      "\n",
      "<img src=\"files/images/ProblemaParabolico.png\"  width=800px>"
     ]
    },
    {
     "cell_type": "heading",
     "level": 3,
     "metadata": {},
     "source": [
      "8.  Determinaci\u00f3n de $\\pi$ usando Monte-Carlo"
     ]
    },
    {
     "cell_type": "heading",
     "level": 3,
     "metadata": {},
     "source": [
      "9. Hipocicloide"
     ]
    },
    {
     "cell_type": "markdown",
     "metadata": {},
     "source": [
      "[Ejemplo](https://es.wikipedia.org/wiki/Hipocicloide)\n",
      "\n",
      "[Guia](https://github.com/curibe/test/blob/master/docs/hipocicloide.pdf) En este documento encontrara una breve descripcion de qu\u00e9 es lo que se quiere hacer con este problema. La idea es que mire las distintas figuras que se generan dependiendo de la razon entre los radios de los circulos ($a/b$)"
     ]
    },
    {
     "cell_type": "heading",
     "level": 3,
     "metadata": {},
     "source": [
      "10. Desintegraci\u00f3n radiactiva (m\u00e9todo probabil\u00edstico)"
     ]
    },
    {
     "cell_type": "markdown",
     "metadata": {},
     "source": [
      "[Guia](https://github.com/curibe/test/blob/master/docs/desintegracion_radiactiva.pdf) En este documento encontraran la descripcion de una practica de laboratorio en la que se prueba este m\u00e9todo. La idea es que ud genere los datos con el computador, generando aleatoriamente las arandelas e ir mirando cuantas se desintgran y cuantas no, y finalmente contruir el grafico de $N(t)$ vs $t$"
     ]
    },
    {
     "cell_type": "heading",
     "level": 3,
     "metadata": {},
     "source": [
      "11. Pendulo simple / Transformada de fourier (Proyectos semestre 2014-2)"
     ]
    },
    {
     "cell_type": "markdown",
     "metadata": {},
     "source": [
      "[Doc. de Enunciados](https://github.com/curibe/test/blob/master/docs/proyectos_finales.pdf)\n",
      "\n",
      "En este documento encontrar\u00e1n una descripcion de dos problemas: Transformada de fourier y el pendulo simple, los cuales correspondieron a los temas de proyecto del semestre 2014-2. Para los que quieren resolver el problema del pendulo simple, pueden usar este documento como guia."
     ]
    },
    {
     "cell_type": "code",
     "collapsed": false,
     "input": [
      "from IPython.core.display import HTML\n",
      "def css_styling():\n",
      "    styles = open('custom.css', 'r').read()\n",
      "    return HTML(styles)\n",
      "css_styling()"
     ],
     "language": "python",
     "metadata": {},
     "outputs": [
      {
       "html": [
        "<link href='http://fonts.googleapis.com/css?family=Fenix' rel='stylesheet' type='text/css'>\n",
        "<link href='http://fonts.googleapis.com/css?family=Alegreya+Sans:100,300,400,500,700,800,900,100italic,300italic,400italic,500italic,700italic,800italic,900italic' rel='stylesheet' type='text/css'>\n",
        "<link href='http://fonts.googleapis.com/css?family=Source+Code+Pro:300,400' rel='stylesheet' type='text/css'>\n",
        "<style>\n",
        "\n",
        "@font-face {\n",
        "    font-family: \"Computer Modern\";\n",
        "    src: url('http://mirrors.ctan.org/fonts/cm-unicode/fonts/otf/cmunss.otf');\n",
        "}\n",
        "\n",
        "\n",
        "#notebook_panel { /* main background */\n",
        "    background: rgb(245,245,245);\n",
        "}\n",
        "\n",
        "div.cell { /* set cell width */\n",
        "    width: 750px;\n",
        "}\n",
        "\n",
        "div #notebook { /* centre the content */\n",
        "    background: #fff; /* white background for content */\n",
        "    width: 1000px;\n",
        "    margin: auto;\n",
        "    padding-left: 0em;\n",
        "}\n",
        "\n",
        "#notebook li { /* More space between bullet points */\n",
        "margin-top:0.8em;\n",
        "}\n",
        "\n",
        "/* draw border around running cells */\n",
        "div.cell.border-box-sizing.code_cell.running { \n",
        "    border: 1px solid #111;\n",
        "}\n",
        "\n",
        "/* Put a solid color box around each cell and its output, visually linking them*/\n",
        "div.cell.code_cell {\n",
        "    background-color: rgb(256,256,256); \n",
        "    border-radius: 0px; \n",
        "    padding: 0.5em;\n",
        "    margin-left:1em;\n",
        "    margin-top: 1em;\n",
        "}\n",
        "\n",
        "\n",
        "div.text_cell_render{\n",
        "    font-family: 'Alegreya Sans' sans-serif;\n",
        "    line-height: 140%;\n",
        "    font-size: 125%;\n",
        "    font-weight: 400;\n",
        "    width:600px;\n",
        "    margin-left:auto;\n",
        "    margin-right:auto;\n",
        "}\n",
        "\n",
        "/* Formatting for header cells */\n",
        ".text_cell_render h1 {\n",
        "    font-family: 'Alegreya Sans', sans-serif;\n",
        "    font-style:regular;\n",
        "    font-weight: 200;    \n",
        "    font-size: 50pt;\n",
        "    line-height: 100%;\n",
        "    color:#CD2305;\n",
        "    margin-bottom: 0.5em;\n",
        "    margin-top: 0.5em;\n",
        "    display: block;\n",
        "}\t\n",
        ".text_cell_render h2 {\n",
        "    font-family: 'Fenix', serif;\n",
        "    font-size: 22pt;\n",
        "    line-height: 100%;\n",
        "    margin-bottom: 0.1em;\n",
        "    margin-top: 0.3em;\n",
        "    display: block;\n",
        "}\t\n",
        "\n",
        ".text_cell_render h3 {\n",
        "    font-family: 'Fenix', serif;\n",
        "    margin-top:12px;\n",
        "\tfont-size: 16pt;\n",
        "    margin-bottom: 3px;\n",
        "    font-style: regular;\n",
        "}\n",
        "\n",
        ".text_cell_render h4 {    /*Use this for captions*/\n",
        "    font-family: 'Fenix', serif;\n",
        "    font-size: 16pt;\n",
        "    text-align: left;\n",
        "    color:#CD8405;\n",
        "    margin-top: 0em;\n",
        "    margin-bottom: 2em;\n",
        "    font-style: regular;\n",
        "}\n",
        "\n",
        ".text_cell_render h5 {  /*Use this for small titles*/\n",
        "    font-family: 'Alegreya Sans', sans-serif;\n",
        "    font-weight: 300;\n",
        "    font-size: 16pt;\n",
        "    color: #CD2305;\n",
        "    font-style: italic;\n",
        "    margin-bottom: .5em;\n",
        "    margin-top: 0.5em;\n",
        "    display: block;\n",
        "}\n",
        "\n",
        ".text_cell_render h6 { /*use this for copyright note*/\n",
        "    font-family: 'Source Code Pro', sans-serif;\n",
        "    font-weight: 300;\n",
        "    font-size: 9pt;\n",
        "    line-height: 100%;\n",
        "    color: grey;\n",
        "    margin-bottom: 1px;\n",
        "    margin-top: 1px;\n",
        "}\n",
        "\n",
        "    .CodeMirror{\n",
        "            font-family: \"Source Code Pro\";\n",
        "\t\t\tfont-size: 90%;\n",
        "    }\n",
        "/*    .prompt{\n",
        "        display: None;\n",
        "    }*/\n",
        "\t\n",
        "    \n",
        "    .warning{\n",
        "        color: rgb( 240, 20, 20 )\n",
        "        }  \n",
        "</style>\n",
        "<script>\n",
        "    MathJax.Hub.Config({\n",
        "                        TeX: {\n",
        "                           extensions: [\"AMSmath.js\"], \n",
        "                           equationNumbers: { autoNumber: \"AMS\", useLabelIds: true}\n",
        "\t\t\t   \n",
        "                           },\n",
        "                tex2jax: {\n",
        "                    inlineMath: [ ['$','$'], [\"\\\\(\",\"\\\\)\"] ],\n",
        "                    displayMath: [ ['$$','$$'], [\"\\\\[\",\"\\\\]\"] ]\n",
        "                },\n",
        "                displayAlign: 'center', // Change this to 'center' to center equations.\n",
        "                \"HTML-CSS\": {\n",
        "\t\t    scale: 90,\n",
        "                    styles: {'.MathJax_Display': {\"margin\": 4}}\n",
        "                }\n",
        "        });\n",
        "</script>\n"
       ],
       "metadata": {},
       "output_type": "pyout",
       "prompt_number": 1,
       "text": [
        "<IPython.core.display.HTML at 0x7f7e91e97090>"
       ]
      }
     ],
     "prompt_number": 1
    }
   ],
   "metadata": {}
  }
 ]
}